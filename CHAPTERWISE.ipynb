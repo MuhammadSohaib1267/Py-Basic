{
 "cells": [
  {
   "cell_type": "markdown",
   "metadata": {},
   "source": [
    "# CHP 1"
   ]
  },
  {
   "cell_type": "code",
   "execution_count": 1,
   "metadata": {},
   "outputs": [
    {
     "name": "stdout",
     "output_type": "stream",
     "text": [
      "Hello Python\n"
     ]
    }
   ],
   "source": [
    "print('Hello Python')"
   ]
  },
  {
   "cell_type": "markdown",
   "metadata": {},
   "source": [
    "# CHP 2"
   ]
  },
  {
   "cell_type": "code",
   "execution_count": 2,
   "metadata": {},
   "outputs": [
    {
     "name": "stdout",
     "output_type": "stream",
     "text": [
      "Sohaib\n"
     ]
    }
   ],
   "source": [
    "name = 'Sohaib'\n",
    "print(name)"
   ]
  },
  {
   "cell_type": "code",
   "execution_count": 11,
   "metadata": {},
   "outputs": [
    {
     "ename": "SyntaxError",
     "evalue": "invalid syntax (<ipython-input-11-b0ba4bb8adbf>, line 1)",
     "output_type": "error",
     "traceback": [
      "\u001b[1;36m  File \u001b[1;32m\"<ipython-input-11-b0ba4bb8adbf>\"\u001b[1;36m, line \u001b[1;32m1\u001b[0m\n\u001b[1;33m    const a\u001b[0m\n\u001b[1;37m          ^\u001b[0m\n\u001b[1;31mSyntaxError\u001b[0m\u001b[1;31m:\u001b[0m invalid syntax\n"
     ]
    }
   ],
   "source": [
    "const a\n",
    "a = 5"
   ]
  },
  {
   "cell_type": "code",
   "execution_count": 18,
   "metadata": {},
   "outputs": [
    {
     "name": "stdout",
     "output_type": "stream",
     "text": [
      "<class 'str'>\n",
      "<class 'int'>\n"
     ]
    }
   ],
   "source": [
    "f_name =\"Muhammad Sohaib\"\n",
    "print(type(f_name))\n",
    "num=5\n",
    "f_name=50\n",
    "print(type(f_name))"
   ]
  },
  {
   "cell_type": "markdown",
   "metadata": {},
   "source": [
    "# CHP 3"
   ]
  },
  {
   "cell_type": "code",
   "execution_count": 19,
   "metadata": {},
   "outputs": [
    {
     "name": "stdout",
     "output_type": "stream",
     "text": [
      "Hello World Python\n"
     ]
    }
   ],
   "source": [
    "x , y , z = 'Hello','World','Python'\n",
    "print(x,y,z)"
   ]
  },
  {
   "cell_type": "code",
   "execution_count": 20,
   "metadata": {},
   "outputs": [
    {
     "name": "stdout",
     "output_type": "stream",
     "text": [
      "Soahib\n",
      "Soahib\n"
     ]
    }
   ],
   "source": [
    "a = 'Soahib'\n",
    "b = a\n",
    "print(a)\n",
    "print(b)"
   ]
  },
  {
   "cell_type": "code",
   "execution_count": 21,
   "metadata": {},
   "outputs": [
    {
     "name": "stdout",
     "output_type": "stream",
     "text": [
      "ada\n",
      "Soahib\n"
     ]
    }
   ],
   "source": [
    "a = 'ada'\n",
    "print(a)\n",
    "print(b)"
   ]
  },
  {
   "cell_type": "code",
   "execution_count": 22,
   "metadata": {},
   "outputs": [
    {
     "data": {
      "text/plain": [
       "int"
      ]
     },
     "execution_count": 22,
     "metadata": {},
     "output_type": "execute_result"
    }
   ],
   "source": [
    "a = 25\n",
    "type(a)"
   ]
  },
  {
   "cell_type": "code",
   "execution_count": 23,
   "metadata": {},
   "outputs": [
    {
     "name": "stdout",
     "output_type": "stream",
     "text": [
      "<class 'str'>\n"
     ]
    }
   ],
   "source": [
    "a = '25'\n",
    "print(type(a))"
   ]
  },
  {
   "cell_type": "code",
   "execution_count": 24,
   "metadata": {},
   "outputs": [],
   "source": [
    "mangoes = 10"
   ]
  },
  {
   "cell_type": "code",
   "execution_count": 25,
   "metadata": {},
   "outputs": [
    {
     "name": "stdout",
     "output_type": "stream",
     "text": [
      "20\n",
      "20\n"
     ]
    }
   ],
   "source": [
    "print(mangoes+10)\n",
    "mangoes_sum = mangoes+10\n",
    "print(mangoes_sum)"
   ]
  },
  {
   "cell_type": "code",
   "execution_count": 26,
   "metadata": {},
   "outputs": [
    {
     "name": "stdout",
     "output_type": "stream",
     "text": [
      "100\n",
      "10.5\n",
      "89.5\n"
     ]
    }
   ],
   "source": [
    "a=100\n",
    "b=10.5\n",
    "sum = a-b\n",
    "print(a)\n",
    "print(b)\n",
    "print(sum)"
   ]
  },
  {
   "cell_type": "code",
   "execution_count": 27,
   "metadata": {},
   "outputs": [
    {
     "name": "stdout",
     "output_type": "stream",
     "text": [
      "<class 'int'>\n",
      "<class 'float'>\n",
      "<class 'float'>\n"
     ]
    }
   ],
   "source": [
    "print(type(a))\n",
    "print(type(b))\n",
    "print(type(sum))"
   ]
  },
  {
   "cell_type": "code",
   "execution_count": 33,
   "metadata": {},
   "outputs": [
    {
     "name": "stdout",
     "output_type": "stream",
     "text": [
      "100abc\n",
      "<class 'str'>\n"
     ]
    }
   ],
   "source": [
    "c = \"abc\"\n",
    "add = str(a)+c \n",
    "print(add)\n",
    "print(type(add))"
   ]
  },
  {
   "cell_type": "code",
   "execution_count": 31,
   "metadata": {},
   "outputs": [
    {
     "name": "stdout",
     "output_type": "stream",
     "text": [
      "Sohaib\n",
      "\n",
      "Akram\n"
     ]
    }
   ],
   "source": [
    "print(\"Sohaib\\n\\nAkram\")"
   ]
  },
  {
   "cell_type": "markdown",
   "metadata": {},
   "source": [
    "# CHP 4"
   ]
  },
  {
   "cell_type": "code",
   "execution_count": 35,
   "metadata": {},
   "outputs": [
    {
     "name": "stdout",
     "output_type": "stream",
     "text": [
      "11.5\n",
      "<class 'float'>\n"
     ]
    }
   ],
   "source": [
    "num = 10\n",
    "num_another = 1.5\n",
    "sum_of_num = num + num_another \n",
    "print(sum_of_num)\n",
    "print(type(sum_of_num))"
   ]
  },
  {
   "cell_type": "markdown",
   "metadata": {},
   "source": [
    "# CHP 5"
   ]
  },
  {
   "cell_type": "code",
   "execution_count": 36,
   "metadata": {},
   "outputs": [
    {
     "ename": "SyntaxError",
     "evalue": "invalid syntax (<ipython-input-36-b9a6d0fe59a9>, line 1)",
     "output_type": "error",
     "traceback": [
      "\u001b[1;36m  File \u001b[1;32m\"<ipython-input-36-b9a6d0fe59a9>\"\u001b[1;36m, line \u001b[1;32m1\u001b[0m\n\u001b[1;33m    class = 10\u001b[0m\n\u001b[1;37m          ^\u001b[0m\n\u001b[1;31mSyntaxError\u001b[0m\u001b[1;31m:\u001b[0m invalid syntax\n"
     ]
    }
   ],
   "source": [
    "class = 10 "
   ]
  },
  {
   "cell_type": "markdown",
   "metadata": {},
   "source": [
    "# CHP 6"
   ]
  },
  {
   "cell_type": "code",
   "execution_count": 38,
   "metadata": {},
   "outputs": [
    {
     "name": "stdout",
     "output_type": "stream",
     "text": [
      "There are  100  students in class\n",
      "There are 100 students in class\n"
     ]
    }
   ],
   "source": [
    "x = \"There are \"\n",
    "y = \"100\"\n",
    "z = \" students in class\"\n",
    "print(x,y,z)\n",
    "w = x + str(y) + z\n",
    "print(w)"
   ]
  },
  {
   "cell_type": "code",
   "execution_count": 39,
   "metadata": {},
   "outputs": [
    {
     "name": "stdout",
     "output_type": "stream",
     "text": [
      "There is a student's meeting today\n"
     ]
    }
   ],
   "source": [
    "x = \"There is a student's meeting today\"\n",
    "print(x)"
   ]
  },
  {
   "cell_type": "code",
   "execution_count": 40,
   "metadata": {},
   "outputs": [
    {
     "name": "stdout",
     "output_type": "stream",
     "text": [
      "10 \n",
      " 50\n"
     ]
    }
   ],
   "source": [
    "mango = 10\n",
    "apple = 50\n",
    "print(mango,\"\\n\",apple)"
   ]
  },
  {
   "cell_type": "code",
   "execution_count": 43,
   "metadata": {},
   "outputs": [
    {
     "name": "stdout",
     "output_type": "stream",
     "text": [
      "We have (mango + apple = 60) foods in basket.\n"
     ]
    }
   ],
   "source": [
    "x = \"We have (mango + apple = \"\n",
    "y = mango + apple\n",
    "z = \") foods in basket.\"\n",
    "s=x+str(y)+z\n",
    "print(s)"
   ]
  },
  {
   "cell_type": "code",
   "execution_count": 44,
   "metadata": {},
   "outputs": [
    {
     "name": "stdout",
     "output_type": "stream",
     "text": [
      "We have (mango + apple =  60 ) foods in basket.\n"
     ]
    }
   ],
   "source": [
    "print(x,y,z)"
   ]
  },
  {
   "cell_type": "markdown",
   "metadata": {},
   "source": [
    "# CHP 6"
   ]
  },
  {
   "cell_type": "code",
   "execution_count": 52,
   "metadata": {},
   "outputs": [
    {
     "name": "stdout",
     "output_type": "stream",
     "text": [
      "1\n"
     ]
    }
   ],
   "source": [
    "a = 10\n",
    "b = 3\n",
    "x = a % b\n",
    "print(x)"
   ]
  },
  {
   "cell_type": "code",
   "execution_count": 53,
   "metadata": {},
   "outputs": [
    {
     "name": "stdout",
     "output_type": "stream",
     "text": [
      "2\n"
     ]
    }
   ],
   "source": [
    "x += 1\n",
    "print(x)"
   ]
  },
  {
   "cell_type": "code",
   "execution_count": 50,
   "metadata": {},
   "outputs": [
    {
     "name": "stdout",
     "output_type": "stream",
     "text": [
      "11\n"
     ]
    }
   ],
   "source": [
    "y = 10\n",
    "y += 1\n",
    "print(y)"
   ]
  },
  {
   "cell_type": "code",
   "execution_count": 54,
   "metadata": {},
   "outputs": [
    {
     "name": "stdout",
     "output_type": "stream",
     "text": [
      "10\n"
     ]
    }
   ],
   "source": [
    "x = 10\n",
    "y = 20\n",
    "y -= x\n",
    "print(y)"
   ]
  },
  {
   "cell_type": "markdown",
   "metadata": {},
   "source": [
    "# CHP 7"
   ]
  },
  {
   "cell_type": "code",
   "execution_count": 56,
   "metadata": {},
   "outputs": [
    {
     "name": "stdout",
     "output_type": "stream",
     "text": [
      "13\n"
     ]
    }
   ],
   "source": [
    "total_cost=1+3*4\n",
    "print(total_cost)"
   ]
  },
  {
   "cell_type": "code",
   "execution_count": 57,
   "metadata": {},
   "outputs": [
    {
     "name": "stdout",
     "output_type": "stream",
     "text": [
      "16\n"
     ]
    }
   ],
   "source": [
    "total_cost=(1+3)*4\n",
    "print(total_cost)"
   ]
  },
  {
   "cell_type": "code",
   "execution_count": 58,
   "metadata": {},
   "outputs": [
    {
     "name": "stdout",
     "output_type": "stream",
     "text": [
      "3.2\n"
     ]
    }
   ],
   "source": [
    "total_sum = ((1+3)*4)/5\n",
    "print(total_sum)"
   ]
  },
  {
   "cell_type": "markdown",
   "metadata": {},
   "source": [
    "# CHP 8"
   ]
  },
  {
   "cell_type": "code",
   "execution_count": 61,
   "metadata": {},
   "outputs": [],
   "source": [
    "#Plus two strings or combining multiple string"
   ]
  },
  {
   "cell_type": "markdown",
   "metadata": {},
   "source": [
    "# CHP 9"
   ]
  },
  {
   "cell_type": "code",
   "execution_count": 65,
   "metadata": {},
   "outputs": [
    {
     "name": "stdout",
     "output_type": "stream",
     "text": [
      "100\n",
      "Num is 100\n"
     ]
    }
   ],
   "source": [
    "num = 100\n",
    "if num == 100:\n",
    "    print(num)\n",
    "    print('Num is 100')\n",
    "else:\n",
    "    print('Num is not 100')"
   ]
  },
  {
   "cell_type": "code",
   "execution_count": 66,
   "metadata": {},
   "outputs": [
    {
     "name": "stdout",
     "output_type": "stream",
     "text": [
      "Animal cat is present\n"
     ]
    }
   ],
   "source": [
    "species = \"cat\"\n",
    "if species == \"cat\":\n",
    "    print('Animal cat is present')\n",
    "else:\n",
    "    print('No animal found')"
   ]
  },
  {
   "cell_type": "markdown",
   "metadata": {},
   "source": [
    "# CHP 10"
   ]
  },
  {
   "cell_type": "code",
   "execution_count": 1,
   "metadata": {},
   "outputs": [
    {
     "name": "stdout",
     "output_type": "stream",
     "text": [
      "Give answer in yes or no\n",
      "\n",
      "\n",
      "Enter Your Age : 19\n",
      "Present NIC : Yes\n",
      "Name present in Voter List : yes\n",
      "\n",
      "\n",
      "You Can Cast Your Vote\n"
     ]
    }
   ],
   "source": [
    "print(\"Give answer in yes or no\\n\\n\")\n",
    "age_required=18\n",
    "age=int(input(\"Enter Your Age : \"))\n",
    "nic = input(\"Present NIC : \")\n",
    "voter = input(\"Name present in Voter List : \")\n",
    "if(age>=age_required):\n",
    "    if(nic==\"Yes\" or nic==\"yes\"):\n",
    "        if(voter==\"Yes\" or voter==\"yes\"):\n",
    "            print(\"\\n\\nYou Can Cast Your Vote\")\n",
    "        elif(voter!=\"Yes\" and voter!=\"No\"):\n",
    "            print(\"Error\")\n",
    "        else:\n",
    "            print(\"\\n\\nYou can't cast your vote\")\n",
    "    else:\n",
    "        print(\"\\n\\nYou can't cast your vote\")\n",
    "        \n",
    "else:\n",
    "    print(\"\\n\\nYou can't cast your vote\")"
   ]
  },
  {
   "cell_type": "markdown",
   "metadata": {},
   "source": [
    "# CHP 11"
   ]
  },
  {
   "cell_type": "code",
   "execution_count": 2,
   "metadata": {},
   "outputs": [
    {
     "name": "stdout",
     "output_type": "stream",
     "text": [
      "Input : 18.6\n",
      "<class 'float'>\n"
     ]
    }
   ],
   "source": [
    "i=eval(input(\"Input : \"))\n",
    "print(type(i))"
   ]
  },
  {
   "cell_type": "markdown",
   "metadata": {},
   "source": [
    "# CHP 14"
   ]
  },
  {
   "cell_type": "code",
   "execution_count": 4,
   "metadata": {},
   "outputs": [
    {
     "data": {
      "text/plain": [
       "'i=eval(input(\"Input : \"))\\nprint(type(i))'"
      ]
     },
     "execution_count": 4,
     "metadata": {},
     "output_type": "execute_result"
    }
   ],
   "source": [
    "\"\"\"i=eval(input(\"Input : \"))\n",
    "print(type(i))\"\"\"\n",
    "#COMMIT"
   ]
  },
  {
   "cell_type": "markdown",
   "metadata": {},
   "source": [
    "\n",
    "# CHP 15"
   ]
  },
  {
   "cell_type": "code",
   "execution_count": 6,
   "metadata": {},
   "outputs": [
    {
     "name": "stdout",
     "output_type": "stream",
     "text": [
      "Bob\n"
     ]
    },
    {
     "data": {
      "text/plain": [
       "list"
      ]
     },
     "execution_count": 6,
     "metadata": {},
     "output_type": "execute_result"
    }
   ],
   "source": [
    "List_declearation=[1,\"Bob\",\"Now is\"]\n",
    "print(List_declearation[1])\n",
    "type(List_declearation)"
   ]
  },
  {
   "cell_type": "code",
   "execution_count": 11,
   "metadata": {},
   "outputs": [
    {
     "data": {
      "text/plain": [
       "True"
      ]
     },
     "execution_count": 11,
     "metadata": {},
     "output_type": "execute_result"
    }
   ],
   "source": [
    "Check=[2,3,4,5,6,7]\n",
    "3 in Check"
   ]
  },
  {
   "cell_type": "code",
   "execution_count": 12,
   "metadata": {},
   "outputs": [
    {
     "name": "stdout",
     "output_type": "stream",
     "text": [
      "[1, 2, 3, 4, 5, 6, 7, 8, 9, 10, 11, 12, 13, 14, 15, 16, 17, 18, 19, 20, 21, 22, 23, 24, 25, 26, 27, 28, 29, 30, 31, 32, 33, 34, 35, 36, 37, 38, 39, 40, 41, 42, 43, 44, 45, 46, 47, 48, 49, 50, 51, 52, 53, 54, 55, 56, 57, 58, 59, 60, 61, 62, 63, 64, 65, 66, 67, 68, 69, 70, 71, 72, 73, 74, 75, 76, 77, 78, 79, 80, 81, 82, 83, 84, 85, 86, 87, 88, 89, 90, 91, 92, 93, 94, 95, 96, 97, 98, 99]\n"
     ]
    }
   ],
   "source": [
    "numbers=list(range(1,100))\n",
    "print(numbers)"
   ]
  },
  {
   "cell_type": "code",
   "execution_count": 13,
   "metadata": {},
   "outputs": [
    {
     "name": "stdout",
     "output_type": "stream",
     "text": [
      "[2, 4, 6, 8, 10]\n"
     ]
    }
   ],
   "source": [
    "even_numbers=list(range(2,11,2))\n",
    "print(even_numbers)"
   ]
  },
  {
   "cell_type": "code",
   "execution_count": 14,
   "metadata": {},
   "outputs": [
    {
     "name": "stdout",
     "output_type": "stream",
     "text": [
      "[1, 2, 3, 4, 5, 6, 7, 8, 9, 11]\n"
     ]
    }
   ],
   "source": [
    "number=list(range(1,10))\n",
    "number.append(11)\n",
    "print(number)"
   ]
  },
  {
   "cell_type": "code",
   "execution_count": 15,
   "metadata": {},
   "outputs": [
    {
     "name": "stdout",
     "output_type": "stream",
     "text": [
      "['Angilous', 'Pakistan', 'New York', '#####', '#####', '#####']\n"
     ]
    }
   ],
   "source": [
    "cities=[\"Angilous\",\"New York\",\"#####\",\"#####\",\"#####\"]\n",
    "cities.insert(1,\"Pakistan\")\n",
    "print(cities)"
   ]
  },
  {
   "cell_type": "code",
   "execution_count": 16,
   "metadata": {},
   "outputs": [
    {
     "name": "stdout",
     "output_type": "stream",
     "text": [
      "6\n"
     ]
    }
   ],
   "source": [
    "print(len(cities))"
   ]
  },
  {
   "cell_type": "code",
   "execution_count": 2,
   "metadata": {},
   "outputs": [
    {
     "name": "stdout",
     "output_type": "stream",
     "text": [
      "['user1', 'user2', 'user3', 'user2']\n",
      "True\n"
     ]
    }
   ],
   "source": [
    "user=[\"user1\",\"user2\",\"user3\"]\n",
    "user.insert(5,'user2')\n",
    "print(user)\n",
    "print(\"user2\" in user)"
   ]
  },
  {
   "cell_type": "code",
   "execution_count": 40,
   "metadata": {},
   "outputs": [
    {
     "data": {
      "text/plain": [
       "1"
      ]
     },
     "execution_count": 40,
     "metadata": {},
     "output_type": "execute_result"
    }
   ],
   "source": [
    "x = 'hello'\n",
    "x.find('e')"
   ]
  },
  {
   "cell_type": "markdown",
   "metadata": {},
   "source": [
    "# CHP 16 "
   ]
  },
  {
   "cell_type": "code",
   "execution_count": 26,
   "metadata": {},
   "outputs": [
    {
     "name": "stdout",
     "output_type": "stream",
     "text": [
      "['Anhgilous', 'Las Vahus', 'New York']\n"
     ]
    }
   ],
   "source": [
    "cities = [\"Anhgilous\",\"Las Vahus\"]\n",
    "city = [\"New York\"]\n",
    "citie = cities + city\n",
    "print(citie)"
   ]
  },
  {
   "cell_type": "markdown",
   "metadata": {},
   "source": [
    "# CHP 17"
   ]
  },
  {
   "cell_type": "code",
   "execution_count": 29,
   "metadata": {},
   "outputs": [
    {
     "name": "stdout",
     "output_type": "stream",
     "text": [
      "[2, 3, 4]\n"
     ]
    }
   ],
   "source": [
    "smaller_list = list(range(0,5))\n",
    "smaller_list_number = smaller_list[2:5]\n",
    "print(smaller_list_number)"
   ]
  },
  {
   "cell_type": "markdown",
   "metadata": {},
   "source": [
    "# CHP 18"
   ]
  },
  {
   "cell_type": "code",
   "execution_count": 35,
   "metadata": {},
   "outputs": [
    {
     "name": "stdout",
     "output_type": "stream",
     "text": [
      "[1, 2, 3, 4, 5, 6, 7, 8, 9, 10, 11, 12, 13, 14, 15, 16, 17, 18, 19]\n",
      "[9, 10, 11, 12, 13, 14, 15, 16]\n"
     ]
    }
   ],
   "source": [
    "new_list = list(range(1,20))\n",
    "print(new_list)\n",
    "small_list = new_list[-11:-3]\n",
    "print(small_list)"
   ]
  },
  {
   "cell_type": "code",
   "execution_count": 36,
   "metadata": {},
   "outputs": [
    {
     "name": "stdout",
     "output_type": "stream",
     "text": [
      "99\n"
     ]
    }
   ],
   "source": [
    "new_list = list(range(1,100))\n",
    "last_element = new_list[-1]\n",
    "print(last_element)"
   ]
  },
  {
   "cell_type": "code",
   "execution_count": 37,
   "metadata": {},
   "outputs": [
    {
     "name": "stdout",
     "output_type": "stream",
     "text": [
      "['email frank']\n"
     ]
    }
   ],
   "source": [
    "New_List = [\"email frank\",\"call sarah\"]\n",
    "New_List.remove(\"call sarah\")\n",
    "print(New_List)"
   ]
  },
  {
   "cell_type": "code",
   "execution_count": 38,
   "metadata": {},
   "outputs": [
    {
     "name": "stdout",
     "output_type": "stream",
     "text": [
      "is \n"
     ]
    }
   ],
   "source": [
    "x = \"This is slicing on string\"\n",
    "y = x[2:5]\n",
    "print(y)"
   ]
  },
  {
   "cell_type": "markdown",
   "metadata": {},
   "source": [
    "# CHP 19"
   ]
  },
  {
   "cell_type": "code",
   "execution_count": 2,
   "metadata": {},
   "outputs": [],
   "source": [
    "tasks=[\"email frank\",\"call sarah\",\"meet with Zach\"]\n",
    "latest_task_accomplished=tasks.pop(1)"
   ]
  },
  {
   "cell_type": "code",
   "execution_count": 3,
   "metadata": {},
   "outputs": [
    {
     "name": "stdout",
     "output_type": "stream",
     "text": [
      "call sarah\n"
     ]
    }
   ],
   "source": [
    "print(latest_task_accomplished)"
   ]
  },
  {
   "cell_type": "code",
   "execution_count": 27,
   "metadata": {},
   "outputs": [
    {
     "name": "stdout",
     "output_type": "stream",
     "text": [
      "['Cell Phone', 'Pencil', 'Pen']\n"
     ]
    }
   ],
   "source": [
    "my_list_1=[\"Pen\",\"Pencil\",\"Cell Phone\"]\n",
    "purchased_list=[]\n",
    "x=len(my_list_1)\n",
    "for i in range(x):\n",
    "    purchased = my_list_1.pop()\n",
    "    purchased_list.append(purchased)\n",
    "\n",
    "print(purchased_list)    "
   ]
  },
  {
   "cell_type": "markdown",
   "metadata": {},
   "source": [
    "# CHP 20"
   ]
  },
  {
   "cell_type": "code",
   "execution_count": 28,
   "metadata": {},
   "outputs": [
    {
     "name": "stdout",
     "output_type": "stream",
     "text": [
      "['a', 'b', 'c', 'd']\n",
      "['a', 'b', 'c', 'd']\n",
      "['a', 'b', 'c', 'd', 'z']\n"
     ]
    }
   ],
   "source": [
    "my_new_list = [\"a\",\"b\",\"c\",\"d\"]\n",
    "print(my_new_list)\n",
    "new_list=my_new_list\n",
    "print(new_list)\n",
    "my_new_list.append(\"z\")\n",
    "print(new_list)"
   ]
  },
  {
   "cell_type": "code",
   "execution_count": 32,
   "metadata": {},
   "outputs": [
    {
     "name": "stdout",
     "output_type": "stream",
     "text": [
      "[0, 1, 4, 9, 16, 25, 36, 49, 64, 81]\n"
     ]
    }
   ],
   "source": [
    "square = [x**2 for x in range(10)]\n",
    "print(square)"
   ]
  },
  {
   "cell_type": "markdown",
   "metadata": {},
   "source": [
    "# CHP 21"
   ]
  },
  {
   "cell_type": "code",
   "execution_count": 33,
   "metadata": {},
   "outputs": [
    {
     "name": "stdout",
     "output_type": "stream",
     "text": [
      "[(1, 3), (1, 4), (2, 3), (2, 1), (2, 4), (3, 1), (3, 4)]\n"
     ]
    }
   ],
   "source": [
    "combs=[(x,y) for x in [1,2,3] for y in [3,1,4] if x != y]\n",
    "print(combs)"
   ]
  },
  {
   "cell_type": "markdown",
   "metadata": {},
   "source": [
    "# CHP 20"
   ]
  },
  {
   "cell_type": "code",
   "execution_count": 35,
   "metadata": {},
   "outputs": [
    {
     "name": "stdout",
     "output_type": "stream",
     "text": [
      "('1', '2', '3')\n"
     ]
    }
   ],
   "source": [
    "#Imuteable\n",
    "state_order_of_founded=(\"1\",\"2\",\"3\")\n",
    "print(state_order_of_founded)"
   ]
  },
  {
   "cell_type": "code",
   "execution_count": 37,
   "metadata": {},
   "outputs": [
    {
     "name": "stdout",
     "output_type": "stream",
     "text": [
      "(250, 20)\n"
     ]
    }
   ],
   "source": [
    "dimentional = (250,20)\n",
    "print(dimentional)"
   ]
  },
  {
   "cell_type": "code",
   "execution_count": 1,
   "metadata": {},
   "outputs": [
    {
     "name": "stdout",
     "output_type": "stream",
     "text": [
      "1 2 3\n"
     ]
    }
   ],
   "source": [
    "#Unpacking\n",
    "x = (1 , 2, 3)\n",
    "a , b ,c = x \n",
    "print(a,b,c)    "
   ]
  },
  {
   "cell_type": "markdown",
   "metadata": {},
   "source": [
    "# CHP 21"
   ]
  },
  {
   "cell_type": "code",
   "execution_count": 47,
   "metadata": {},
   "outputs": [
    {
     "name": "stdout",
     "output_type": "stream",
     "text": [
      "['Karachi']\n"
     ]
    }
   ],
   "source": [
    "clean_list = [\"Karachi\",\"Islamabad\",\"Mir_pur\"]\n",
    "cleanest_city = \"Karachi\"\n",
    "New_list = [members for members in clean_list if cleanest_city==members]\n",
    "print(New_list)"
   ]
  },
  {
   "cell_type": "markdown",
   "metadata": {},
   "source": [
    "# CHP 22"
   ]
  },
  {
   "cell_type": "code",
   "execution_count": 4,
   "metadata": {},
   "outputs": [
    {
     "name": "stdout",
     "output_type": "stream",
     "text": [
      "2  *  2  =  4\n",
      "2  *  3  =  6\n",
      "2  *  4  =  8\n",
      "2  *  5  =  10\n",
      "2  *  6  =  12\n",
      "2  *  7  =  14\n",
      "2  *  8  =  16\n",
      "2  *  9  =  18\n",
      "2  *  10  =  20\n",
      "\n",
      "\n",
      "3  *  2  =  6\n",
      "3  *  3  =  9\n",
      "3  *  4  =  12\n",
      "3  *  5  =  15\n",
      "3  *  6  =  18\n",
      "3  *  7  =  21\n",
      "3  *  8  =  24\n",
      "3  *  9  =  27\n",
      "3  *  10  =  30\n",
      "\n",
      "\n",
      "4  *  2  =  8\n",
      "4  *  3  =  12\n",
      "4  *  4  =  16\n",
      "4  *  5  =  20\n",
      "4  *  6  =  24\n",
      "4  *  7  =  28\n",
      "4  *  8  =  32\n",
      "4  *  9  =  36\n",
      "4  *  10  =  40\n",
      "\n",
      "\n",
      "5  *  2  =  10\n",
      "5  *  3  =  15\n",
      "5  *  4  =  20\n",
      "5  *  5  =  25\n",
      "5  *  6  =  30\n",
      "5  *  7  =  35\n",
      "5  *  8  =  40\n",
      "5  *  9  =  45\n",
      "5  *  10  =  50\n",
      "\n",
      "\n",
      "6  *  2  =  12\n",
      "6  *  3  =  18\n",
      "6  *  4  =  24\n",
      "6  *  5  =  30\n",
      "6  *  6  =  36\n",
      "6  *  7  =  42\n",
      "6  *  8  =  48\n",
      "6  *  9  =  54\n",
      "6  *  10  =  60\n",
      "\n",
      "\n",
      "7  *  2  =  14\n",
      "7  *  3  =  21\n",
      "7  *  4  =  28\n",
      "7  *  5  =  35\n",
      "7  *  6  =  42\n",
      "7  *  7  =  49\n",
      "7  *  8  =  56\n",
      "7  *  9  =  63\n",
      "7  *  10  =  70\n",
      "\n",
      "\n",
      "8  *  2  =  16\n",
      "8  *  3  =  24\n",
      "8  *  4  =  32\n",
      "8  *  5  =  40\n",
      "8  *  6  =  48\n",
      "8  *  7  =  56\n",
      "8  *  8  =  64\n",
      "8  *  9  =  72\n",
      "8  *  10  =  80\n",
      "\n",
      "\n",
      "9  *  2  =  18\n",
      "9  *  3  =  27\n",
      "9  *  4  =  36\n",
      "9  *  5  =  45\n",
      "9  *  6  =  54\n",
      "9  *  7  =  63\n",
      "9  *  8  =  72\n",
      "9  *  9  =  81\n",
      "9  *  10  =  90\n",
      "\n",
      "\n",
      "10  *  2  =  20\n",
      "10  *  3  =  30\n",
      "10  *  4  =  40\n",
      "10  *  5  =  50\n",
      "10  *  6  =  60\n",
      "10  *  7  =  70\n",
      "10  *  8  =  80\n",
      "10  *  9  =  90\n",
      "10  *  10  =  100\n",
      "\n",
      "\n"
     ]
    }
   ],
   "source": [
    "for i in range(2,11):\n",
    "    for j in range(2,11):\n",
    "        print(i,\" * \",j,\" = \",i*j)\n",
    "    print(\"\\n\")    "
   ]
  },
  {
   "cell_type": "code",
   "execution_count": 21,
   "metadata": {},
   "outputs": [
    {
     "name": "stdout",
     "output_type": "stream",
     "text": [
      "2 * 1 = 2\n",
      "2 * 2 = 4\n",
      "2 * 3 = 6\n",
      "2 * 4 = 8\n",
      "2 * 5 = 10\n",
      "2 * 6 = 12\n",
      "2 * 7 = 14\n",
      "2 * 8 = 16\n",
      "2 * 9 = 18\n",
      "2 * 10 = 20\n",
      "3 * 1 = 3\n",
      "3 * 2 = 6\n",
      "3 * 3 = 9\n",
      "3 * 4 = 12\n",
      "3 * 5 = 15\n",
      "3 * 6 = 18\n",
      "3 * 7 = 21\n",
      "3 * 8 = 24\n",
      "3 * 9 = 27\n",
      "3 * 10 = 30\n",
      "4 * 1 = 4\n",
      "4 * 2 = 8\n",
      "4 * 3 = 12\n",
      "4 * 4 = 16\n",
      "4 * 5 = 20\n",
      "4 * 6 = 24\n",
      "4 * 7 = 28\n",
      "4 * 8 = 32\n",
      "4 * 9 = 36\n",
      "4 * 10 = 40\n",
      "5 * 1 = 5\n",
      "5 * 2 = 10\n",
      "5 * 3 = 15\n",
      "5 * 4 = 20\n",
      "5 * 5 = 25\n",
      "5 * 6 = 30\n",
      "5 * 7 = 35\n",
      "5 * 8 = 40\n",
      "5 * 9 = 45\n",
      "5 * 10 = 50\n",
      "6 * 1 = 6\n",
      "6 * 2 = 12\n",
      "6 * 3 = 18\n",
      "6 * 4 = 24\n",
      "6 * 5 = 30\n",
      "6 * 6 = 36\n",
      "6 * 7 = 42\n",
      "6 * 8 = 48\n",
      "6 * 9 = 54\n",
      "6 * 10 = 60\n",
      "7 * 1 = 7\n",
      "7 * 2 = 14\n",
      "7 * 3 = 21\n",
      "7 * 4 = 28\n",
      "7 * 5 = 35\n",
      "7 * 6 = 42\n",
      "7 * 7 = 49\n",
      "7 * 8 = 56\n",
      "7 * 9 = 63\n",
      "7 * 10 = 70\n",
      "8 * 1 = 8\n",
      "8 * 2 = 16\n",
      "8 * 3 = 24\n",
      "8 * 4 = 32\n",
      "8 * 5 = 40\n",
      "8 * 6 = 48\n",
      "8 * 7 = 56\n",
      "8 * 8 = 64\n",
      "8 * 9 = 72\n",
      "8 * 10 = 80\n",
      "9 * 1 = 9\n",
      "9 * 2 = 18\n",
      "9 * 3 = 27\n",
      "9 * 4 = 36\n",
      "9 * 5 = 45\n",
      "9 * 6 = 54\n",
      "9 * 7 = 63\n",
      "9 * 8 = 72\n",
      "9 * 9 = 81\n",
      "9 * 10 = 90\n",
      "10 * 1 = 10\n",
      "10 * 2 = 20\n",
      "10 * 3 = 30\n",
      "10 * 4 = 40\n",
      "10 * 5 = 50\n",
      "10 * 6 = 60\n",
      "10 * 7 = 70\n",
      "10 * 8 = 80\n",
      "10 * 9 = 90\n",
      "10 * 10 = 100\n"
     ]
    }
   ],
   "source": [
    "i=0\n",
    "j=0\n",
    "Table = [print(str(i)+\" * \"+str(j)+\" = \"+str(i*j)) for i in range(2,11) for j in range(1,11)]"
   ]
  },
  {
   "cell_type": "markdown",
   "metadata": {},
   "source": [
    "# CHP 24"
   ]
  },
  {
   "cell_type": "code",
   "execution_count": 26,
   "metadata": {},
   "outputs": [
    {
     "name": "stdout",
     "output_type": "stream",
     "text": [
      "Yes\n"
     ]
    }
   ],
   "source": [
    "if 2 in [1,2,3,4]:\n",
    "    print(\"Yes\")\n",
    "else:\n",
    "    print(\"Not Founded\")\n"
   ]
  },
  {
   "cell_type": "code",
   "execution_count": 28,
   "metadata": {},
   "outputs": [
    {
     "name": "stdout",
     "output_type": "stream",
     "text": [
      "karachi\n"
     ]
    }
   ],
   "source": [
    "str = \"KARACHI\"\n",
    "str2 = str.lower()\n",
    "print(str2)"
   ]
  },
  {
   "cell_type": "markdown",
   "metadata": {},
   "source": [
    "# CHP 25"
   ]
  },
  {
   "cell_type": "code",
   "execution_count": 5,
   "metadata": {},
   "outputs": [
    {
     "data": {
      "text/plain": [
       "'The lowest number'"
      ]
     },
     "execution_count": 5,
     "metadata": {},
     "output_type": "execute_result"
    }
   ],
   "source": [
    "Things_to_remember = {0:\"The lowest number\",\"a dozen\":12,\"snake eyes\": \"The pair of one\"}\n",
    "Things_to_remember[0]"
   ]
  },
  {
   "cell_type": "code",
   "execution_count": 6,
   "metadata": {},
   "outputs": [
    {
     "data": {
      "text/plain": [
       "12"
      ]
     },
     "execution_count": 6,
     "metadata": {},
     "output_type": "execute_result"
    }
   ],
   "source": [
    "Things_to_remember[\"a dozen\"]"
   ]
  },
  {
   "cell_type": "code",
   "execution_count": 12,
   "metadata": {},
   "outputs": [
    {
     "name": "stdout",
     "output_type": "stream",
     "text": [
      "0\n",
      "The lowest number\n",
      "a dozen\n",
      "12\n",
      "snake eyes\n",
      "The pair of one\n",
      "\n",
      "\n",
      "\n",
      "0\n",
      "a dozen\n",
      "snake eyes\n",
      "\n",
      "\n",
      "\n",
      "The lowest number\n",
      "12\n",
      "The pair of one\n"
     ]
    }
   ],
   "source": [
    "Thing_to_remember = {0:\"The lowest number\",\"a dozen\":12,\"snake eyes\": \"The pair of one\"}\n",
    "for (k,v) in Thing_to_remember.items():\n",
    "    print(k)\n",
    "    print(v)\n",
    "    \n",
    "print(\"\\n\\n\")\n",
    "for i in Thing_to_remember.keys():\n",
    "    print(i)\n",
    "    \n",
    "print(\"\\n\\n\")\n",
    "for j in Thing_to_remember.values():\n",
    "    print(j)"
   ]
  },
  {
   "cell_type": "markdown",
   "metadata": {},
   "source": [
    "# CHP 28"
   ]
  },
  {
   "cell_type": "code",
   "execution_count": 13,
   "metadata": {},
   "outputs": [
    {
     "name": "stdout",
     "output_type": "stream",
     "text": [
      "3\n"
     ]
    }
   ],
   "source": [
    "dic = {1:2,2:3,3:4}\n",
    "print(dic[2])"
   ]
  },
  {
   "cell_type": "code",
   "execution_count": 15,
   "metadata": {},
   "outputs": [
    {
     "name": "stdout",
     "output_type": "stream",
     "text": [
      "{'name': 'david', 'age': 52}\n",
      "{'name': 'Ada', 'age': 52}\n",
      "{'name': 'Ada', 'age': 52, 'city': 'USA'}\n"
     ]
    }
   ],
   "source": [
    "person = {'name':'david','age' : 52}\n",
    "print(person)\n",
    "person['name'] = 'Ada'\n",
    "print(person)\n",
    "person['city']=\"USA\"\n",
    "print(person)"
   ]
  },
  {
   "cell_type": "code",
   "execution_count": 16,
   "metadata": {},
   "outputs": [
    {
     "name": "stdout",
     "output_type": "stream",
     "text": [
      "{'name': 'Ada', 'age': 52}\n"
     ]
    }
   ],
   "source": [
    "del person['city']\n",
    "print(person)"
   ]
  },
  {
   "cell_type": "code",
   "execution_count": 17,
   "metadata": {},
   "outputs": [
    {
     "name": "stdout",
     "output_type": "stream",
     "text": [
      "['name', 'age']\n"
     ]
    }
   ],
   "source": [
    "x = {'name' : 'david',\"age\" : 9}\n",
    "y = list(x)\n",
    "print(y)"
   ]
  },
  {
   "cell_type": "code",
   "execution_count": 25,
   "metadata": {},
   "outputs": [
    {
     "data": {
      "text/plain": [
       "{2: 4, 3: 9, 4: 16, 5: 25, 6: 36}"
      ]
     },
     "execution_count": 25,
     "metadata": {},
     "output_type": "execute_result"
    }
   ],
   "source": [
    "{x:x**2 for x in (2,3,4,5,6)}"
   ]
  },
  {
   "cell_type": "code",
   "execution_count": 27,
   "metadata": {},
   "outputs": [
    {
     "data": {
      "text/plain": [
       "{2: 3, 4: 5, 6: 7}"
      ]
     },
     "execution_count": 27,
     "metadata": {},
     "output_type": "execute_result"
    }
   ],
   "source": [
    "dict([(2,3),(4,5),(6,7)])"
   ]
  },
  {
   "cell_type": "code",
   "execution_count": 29,
   "metadata": {},
   "outputs": [
    {
     "data": {
      "text/plain": [
       "{2: [2, 3, 4], 3: [5, 6, 7]}"
      ]
     },
     "execution_count": 29,
     "metadata": {},
     "output_type": "execute_result"
    }
   ],
   "source": [
    "dict([(2,[2,3,4]),(3,[5,6,7])])\n",
    "      "
   ]
  },
  {
   "cell_type": "code",
   "execution_count": 31,
   "metadata": {},
   "outputs": [
    {
     "data": {
      "text/plain": [
       "{2: {2: 3, 4: 5}, 4: [4, 5, 6, 7]}"
      ]
     },
     "execution_count": 31,
     "metadata": {},
     "output_type": "execute_result"
    }
   ],
   "source": [
    "dict([(2,{2:3,4:5}),(4,[4,5,6,7])])"
   ]
  },
  {
   "cell_type": "code",
   "execution_count": 40,
   "metadata": {},
   "outputs": [
    {
     "name": "stdout",
     "output_type": "stream",
     "text": [
      "(2, 3, 4, 5, ['Sohaib', 'hussian'])\n"
     ]
    }
   ],
   "source": [
    "aTupple = (2,3,4,5,[\"nasir\",\"hussian\"])\n",
    "aTupple[4][0] = \"Sohaib\"\n",
    "print(aTupple)"
   ]
  },
  {
   "cell_type": "code",
   "execution_count": 41,
   "metadata": {},
   "outputs": [
    {
     "name": "stdout",
     "output_type": "stream",
     "text": [
      "0 h\n",
      "1 i\n",
      "2 k\n",
      "3 l\n"
     ]
    }
   ],
   "source": [
    "for i , v in enumerate(['h','i','k','l']):\n",
    "    print(i , v)\n"
   ]
  },
  {
   "cell_type": "markdown",
   "metadata": {},
   "source": [
    "# CHP 31"
   ]
  },
  {
   "cell_type": "code",
   "execution_count": 2,
   "metadata": {},
   "outputs": [
    {
     "name": "stdout",
     "output_type": "stream",
     "text": [
      "Sohaib\n",
      "11194\n"
     ]
    }
   ],
   "source": [
    "customer = {\"Name\": \"Sohaib\",\"Id\":11194}\n",
    "for value in customer.values():\n",
    "    print(value)"
   ]
  },
  {
   "cell_type": "code",
   "execution_count": 4,
   "metadata": {},
   "outputs": [
    {
     "name": "stdout",
     "output_type": "stream",
     "text": [
      "Sohaib\n",
      "11194\n",
      "AI\n"
     ]
    }
   ],
   "source": [
    "values = {\"Name\":\"Sohaib\",\"Id\":11194,\"Program\":\"AI\"}\n",
    "for i in values.keys():\n",
    "    print(values[i])"
   ]
  },
  {
   "cell_type": "code",
   "execution_count": 7,
   "metadata": {},
   "outputs": [
    {
     "name": "stdout",
     "output_type": "stream",
     "text": [
      "[2, 3, 4, 5]\n",
      "[1, 3, 6, 8]\n"
     ]
    }
   ],
   "source": [
    "Dic = {\"1\":[4,3,5,2],\"2\":[6,1,8,3]}\n",
    "for i in Dic.keys():\n",
    "    Dic[i].sort()\n",
    "    print(Dic[i])"
   ]
  },
  {
   "cell_type": "code",
   "execution_count": 29,
   "metadata": {},
   "outputs": [
    {
     "name": "stdout",
     "output_type": "stream",
     "text": [
      "[2, 3, 4, 5]\n",
      "[1, 3, 6, 8]\n",
      "{'1': [4, 3, 5, 2], '2': [6, 1, 8, 3]}\n"
     ]
    }
   ],
   "source": [
    "Dictionary = {\"1\":[4,3,5,2],\"2\":[6,1,8,3]}\n",
    "{print(sorted(Dictionary[i])) for i in Dictinary.keys()}\n",
    "print(Dictionary)"
   ]
  },
  {
   "cell_type": "code",
   "execution_count": 30,
   "metadata": {},
   "outputs": [
    {
     "name": "stdout",
     "output_type": "stream",
     "text": [
      "{'1': [2, 3, 4, 5], '2': [1, 3, 6, 8]}\n"
     ]
    }
   ],
   "source": [
    "Dict = {\"1\":[4,3,5,2],\"2\":[6,1,8,3]}\n",
    "{Dict[i].sort() for i in Dict}\n",
    "print(Dict)"
   ]
  },
  {
   "cell_type": "code",
   "execution_count": 40,
   "metadata": {},
   "outputs": [
    {
     "name": "stdout",
     "output_type": "stream",
     "text": [
      "flint\n",
      "twine\n",
      "gemstone\n",
      "pencil\n",
      "etc\n"
     ]
    }
   ],
   "source": [
    "inventory = {\"gold\":500,\"pouch\":[\"flint\",\"twine\",\"gemstone\",\"hagger\",\"pencil\",\"etc\"]}\n",
    "for i in inventory.keys():\n",
    "    if i == \"pouch\":\n",
    "        for j in inventory[i]:\n",
    "            if j!=\"hagger\":\n",
    "                print(j)"
   ]
  },
  {
   "cell_type": "code",
   "execution_count": 48,
   "metadata": {},
   "outputs": [
    {
     "name": "stdout",
     "output_type": "stream",
     "text": [
      "flint\n",
      "twine\n",
      "gemstone\n",
      "pencil\n",
      "etc\n"
     ]
    },
    {
     "data": {
      "text/plain": [
       "{None}"
      ]
     },
     "execution_count": 48,
     "metadata": {},
     "output_type": "execute_result"
    }
   ],
   "source": [
    "inventory = {\"gold\":500,\"pouch\":[\"flint\",\"twine\",\"gemstone\",\"hagger\",\"pencil\",\"etc\"]}\n",
    "{print(j) for i in inventory.keys() if i==\"pouch\" for j in inventory[i] if j!=\"hagger\"}"
   ]
  },
  {
   "cell_type": "code",
   "execution_count": 47,
   "metadata": {},
   "outputs": [
    {
     "name": "stdout",
     "output_type": "stream",
     "text": [
      "html\n",
      "css\n",
      "excel\n"
     ]
    },
    {
     "data": {
      "text/plain": [
       "{None}"
      ]
     },
     "execution_count": 47,
     "metadata": {},
     "output_type": "execute_result"
    }
   ],
   "source": [
    "item = {\"gold\":500,\"pouch\":[\"flint\",\"twine\",\"gemstone\",\"hagger\",\"pencil\",\"etc\"],\"amir saleem\":[\"html\",\"css\",\"excel\"]}\n",
    "{print(j) for k,v in item.items() if k==\"amir saleem\" for j in item[k]}"
   ]
  },
  {
   "cell_type": "code",
   "execution_count": 51,
   "metadata": {},
   "outputs": [
    {
     "name": "stdout",
     "output_type": "stream",
     "text": [
      "['flint', 'twine', 'gemstone', 'hagger', 'pencil', 'etc']\n"
     ]
    }
   ],
   "source": [
    "x = item[\"pouch\"]\n",
    "print(x)"
   ]
  },
  {
   "cell_type": "code",
   "execution_count": 58,
   "metadata": {},
   "outputs": [
    {
     "name": "stdout",
     "output_type": "stream",
     "text": [
      "error\n"
     ]
    }
   ],
   "source": [
    "y = item.get(\"pouc\",\"error\")\n",
    "print(y)"
   ]
  },
  {
   "cell_type": "code",
   "execution_count": 69,
   "metadata": {},
   "outputs": [
    {
     "name": "stdout",
     "output_type": "stream",
     "text": [
      "{11: 30, 12: 30, 13: 30}\n",
      "{11: 0, 12: 30, 13: 0}\n"
     ]
    }
   ],
   "source": [
    "d = {11:30,12:30}\n",
    "e =d.update({13:30})\n",
    "print(d)\n",
    "f=d.update({11:0,13:0})\n",
    "print(d)"
   ]
  },
  {
   "cell_type": "code",
   "execution_count": 7,
   "metadata": {},
   "outputs": [],
   "source": [
    "users = [{\"Name\":\"Sohaib\",\"id\":11194},{\"Name\":\"Anas\",\"id\":12345},{\"Name\":\"Wajeeh\",\"id\":78910}]"
   ]
  },
  {
   "cell_type": "markdown",
   "metadata": {},
   "source": [
    "# CHP 41)"
   ]
  },
  {
   "cell_type": "code",
   "execution_count": 2,
   "metadata": {},
   "outputs": [],
   "source": [
    "###FUNCTIONS###"
   ]
  },
  {
   "cell_type": "code",
   "execution_count": 2,
   "metadata": {},
   "outputs": [
    {
     "name": "stdout",
     "output_type": "stream",
     "text": [
      "First num : 2\n",
      "Second num : 5\n",
      "7\n"
     ]
    }
   ],
   "source": [
    "def add_num(first_num,second_num):\n",
    "    total=first_num+second_num\n",
    "    return total\n",
    "x=input(\"First num : \")\n",
    "y=input(\"Second num : \")\n",
    "z=add_num(int(x),int(y))\n",
    "print(z)"
   ]
  },
  {
   "cell_type": "code",
   "execution_count": 11,
   "metadata": {},
   "outputs": [
    {
     "name": "stdout",
     "output_type": "stream",
     "text": [
      "First num : 5\n",
      "Second num : 9\n",
      "Enter op: +\n",
      "14\n"
     ]
    }
   ],
   "source": [
    "def add_numbr(first_num,second_num):\n",
    "    total=first_num+second_num\n",
    "    return total\n",
    "def sub_num(first_num,second_num):\n",
    "    total=first_num-second_num\n",
    "    return toatl\n",
    "def mul_num(first_num,second_num):\n",
    "    total=first_num*second_num\n",
    "    return total\n",
    "def div_num(first_num,second_num):\n",
    "    total=first_num/second_num\n",
    "    return total\n",
    "def selection(first_num,second_num,select):\n",
    "    i=0\n",
    "    if select=='+':\n",
    "            i=add_numbr(first_num,second_num)\n",
    "    elif select=='-':\n",
    "            i=sub_num(first_num,second_num)\n",
    "    elif select=='*':\n",
    "            i=mul_num(first_num,second_num)\n",
    "    elif select=='/':\n",
    "             i=div_num(first_num,second_num)\n",
    "    return i        \n",
    "x=int(input(\"First num : \"))\n",
    "y=int(input(\"Second num : \"))   \n",
    "op=input(\"Enter op: \")\n",
    "z=selection(x,y,op)\n",
    "print(z)"
   ]
  },
  {
   "cell_type": "code",
   "execution_count": 5,
   "metadata": {},
   "outputs": [
    {
     "name": "stdout",
     "output_type": "stream",
     "text": [
      "First num : 5\n",
      "Second num : 9\n",
      "Enter op: *\n",
      "Answer is 45\n"
     ]
    }
   ],
   "source": [
    "def select(first_num,second_num,select):\n",
    "    if select=='+':\n",
    "            total=first_num+second_num\n",
    "            return total\n",
    "    elif select=='-':\n",
    "            total=first_num-second_num\n",
    "            return total\n",
    "    elif select=='*':\n",
    "            total=first_num*second_num\n",
    "            return total\n",
    "    elif select=='/':\n",
    "             total=first_num/second_num\n",
    "             return total\n",
    "x=int(input(\"First num : \"))\n",
    "y=int(input(\"Second num : \"))   \n",
    "op=input(\"Enter op: \")\n",
    "z=select(x,y,op)  \n",
    "print(\"Answer is\",z)"
   ]
  },
  {
   "cell_type": "markdown",
   "metadata": {},
   "source": [
    "# CHP 43"
   ]
  },
  {
   "cell_type": "code",
   "execution_count": 22,
   "metadata": {},
   "outputs": [
    {
     "name": "stdout",
     "output_type": "stream",
     "text": [
      "9\n"
     ]
    }
   ],
   "source": [
    "def calc_tax(sales_tax,tax_rate=4):\n",
    "    print(sales_tax*tax_rate)\n",
    "calc_tax(sales_tax=3,tax_rate=3)    "
   ]
  },
  {
   "cell_type": "markdown",
   "metadata": {},
   "source": [
    "DEFAULT SHOULD BE IN LAST ARGUMENTS"
   ]
  },
  {
   "cell_type": "code",
   "execution_count": 26,
   "metadata": {},
   "outputs": [
    {
     "data": {
      "text/plain": [
       "'biahoS'"
      ]
     },
     "execution_count": 26,
     "metadata": {},
     "output_type": "execute_result"
    }
   ],
   "source": [
    "def reverse(name):\n",
    "    return name[::-1]\n",
    "reverse(\"Sohaib\")"
   ]
  },
  {
   "cell_type": "code",
   "execution_count": 24,
   "metadata": {},
   "outputs": [
    {
     "name": "stdout",
     "output_type": "stream",
     "text": [
      "Full name : Sohaib\u0000Akram\n"
     ]
    }
   ],
   "source": [
    "def name_format(first_name,middle_name='\\0',last_name='\\0'):\n",
    "    print(\"Full name : \"+first_name+middle_name+last_name)\n",
    "name_format(first_name=\"Sohaib\",last_name=\"Akram\")    "
   ]
  },
  {
   "cell_type": "code",
   "execution_count": 11,
   "metadata": {},
   "outputs": [],
   "source": [
    "book={0:{\"first_name\":\"Sohaib\",\"last_name\":\"Akram\",\"id\":11194}\n",
    "      ,1:{\"first_name\":\"Anas\",\"last_name\":\"Khan\",\"id\":11195}\n",
    "      ,2:{\"first_name\":\"Zaid\",\"last_name\":\"Ahmed\",\"id\":11196}}\n",
    "def find_some_one():\n",
    "    pass"
   ]
  },
  {
   "cell_type": "code",
   "execution_count": 28,
   "metadata": {},
   "outputs": [
    {
     "name": "stdout",
     "output_type": "stream",
     "text": [
      "6\n"
     ]
    }
   ],
   "source": [
    "def sum1(*arg):\n",
    "    print(sum(arg))\n",
    "sum1(1,2,3)    "
   ]
  },
  {
   "cell_type": "code",
   "execution_count": 34,
   "metadata": {},
   "outputs": [
    {
     "name": "stdout",
     "output_type": "stream",
     "text": [
      "Sohaib Akram 11194 ('Hello', 'Python')\n"
     ]
    }
   ],
   "source": [
    "def xyz(name,father_name,class_roll_num,*abc):\n",
    "         print(name,father_name,class_roll_num,abc)\n",
    "xyz(\"Sohaib\",\"Akram\",11194,\"Hello\",\"Python\")    "
   ]
  },
  {
   "cell_type": "code",
   "execution_count": 43,
   "metadata": {},
   "outputs": [
    {
     "name": "stdout",
     "output_type": "stream",
     "text": [
      "11194\n",
      "{'name': 'Sohaib'}\n"
     ]
    }
   ],
   "source": [
    "def display_result(roll_no,**other_info):\n",
    "    print(roll_no)\n",
    "    print(other_info)\n",
    "display_result(\"11194\", name = \"Sohaib\")    "
   ]
  },
  {
   "cell_type": "markdown",
   "metadata": {},
   "source": [
    "# CHP#49"
   ]
  },
  {
   "cell_type": "code",
   "execution_count": 24,
   "metadata": {},
   "outputs": [],
   "source": [
    "###Global Variable"
   ]
  },
  {
   "cell_type": "code",
   "execution_count": 32,
   "metadata": {},
   "outputs": [
    {
     "name": "stdout",
     "output_type": "stream",
     "text": [
      "13\n"
     ]
    }
   ],
   "source": [
    "wall_clock=4\n",
    "def mobile_watch(new_time):\n",
    "    mbl_watch=new_time\n",
    "    return mbl_watch\n",
    "wall_clock=mobile_watch(13)\n",
    "print(wall_clock)    "
   ]
  },
  {
   "cell_type": "code",
   "execution_count": 8,
   "metadata": {},
   "outputs": [
    {
     "name": "stdout",
     "output_type": "stream",
     "text": [
      "Mobile watch time is :  40\n",
      "Wall clock time is :  7\n",
      "Mobile watch time is :  20\n",
      "Wall clock time is :  20\n",
      "Mobile watch time is :  30\n",
      "Wall clock time is :  20\n"
     ]
    }
   ],
   "source": [
    "Wall_clock=7\n",
    "def mobile_watch_1(x):\n",
    "    mbl_watch_1=x\n",
    "    print(\"Mobile watch time is : \",mbl_watch_1)\n",
    "    print(\"Wall clock time is : \",Wall_clock)\n",
    "def mobile_watch_2(y):\n",
    "    mbl_watch_2=y\n",
    "    Wall_clock=y\n",
    "    print(\"Mobile watch time is : \",mbl_watch_2)\n",
    "    print(\"Wall clock time is : \",Wall_clock)\n",
    "    return y\n",
    "mobile_watch_1(40)    \n",
    "Wall_clock=mobile_watch_2(20)\n",
    "mobile_watch_1(30)"
   ]
  },
  {
   "cell_type": "code",
   "execution_count": 55,
   "metadata": {},
   "outputs": [
    {
     "name": "stdout",
     "output_type": "stream",
     "text": [
      "This is function argument\n",
      "nested\n"
     ]
    }
   ],
   "source": [
    "#Global function \n",
    "def x(w):\n",
    "    print(\"nested\")\n",
    "    \n",
    "def y(z):\n",
    "    print(\"This is function argument\")\n",
    "    z(x)\n",
    "y(x)\n"
   ]
  },
  {
   "cell_type": "code",
   "execution_count": 58,
   "metadata": {},
   "outputs": [
    {
     "name": "stdout",
     "output_type": "stream",
     "text": [
      "This is function argument\n",
      "nested\n",
      "nested\n",
      "This is function argument\n",
      "This is function argument\n",
      "nested\n",
      "nested\n",
      "This is function argument\n",
      "This is function argument\n",
      "nested\n",
      "nested\n",
      "This is function argument\n",
      "This is function argument\n",
      "nested\n",
      "nested\n",
      "This is function argument\n",
      "This is function argument\n",
      "nested\n",
      "nested\n",
      "This is function argument\n",
      "This is function argument\n",
      "nested\n",
      "nested\n",
      "This is function argument\n",
      "This is function argument\n",
      "nested\n",
      "nested\n",
      "This is function argument\n",
      "This is function argument\n",
      "nested\n",
      "nested\n",
      "This is function argument\n",
      "This is function argument\n",
      "nested\n",
      "nested\n",
      "This is function argument\n",
      "This is function argument\n",
      "nested\n",
      "nested\n",
      "This is function argument\n",
      "This is function argument\n",
      "nested\n",
      "nested\n",
      "This is function argument\n",
      "This is function argument\n",
      "nested\n",
      "nested\n",
      "This is function argument\n",
      "This is function argument\n",
      "nested\n",
      "nested\n",
      "This is function argument\n",
      "This is function argument\n",
      "nested\n",
      "nested\n",
      "This is function argument\n",
      "This is function argument\n",
      "nested\n",
      "nested\n",
      "This is function argument\n",
      "This is function argument\n",
      "nested\n",
      "nested\n",
      "This is function argument\n",
      "This is function argument\n",
      "nested\n",
      "nested\n",
      "This is function argument\n",
      "This is function argument\n",
      "nested\n",
      "nested\n",
      "This is function argument\n",
      "This is function argument\n",
      "nested\n",
      "nested\n",
      "This is function argument\n",
      "This is function argument\n",
      "nested\n",
      "nested\n",
      "This is function argument\n",
      "This is function argument\n",
      "nested\n",
      "nested\n",
      "This is function argument\n",
      "This is function argument\n",
      "nested\n",
      "nested\n",
      "This is function argument\n",
      "This is function argument\n",
      "nested\n",
      "nested\n",
      "This is function argument\n",
      "This is function argument\n",
      "nested\n",
      "nested\n",
      "This is function argument\n",
      "This is function argument\n",
      "nested\n",
      "nested\n",
      "This is function argument\n",
      "This is function argument\n",
      "nested\n",
      "nested\n",
      "This is function argument\n",
      "This is function argument\n",
      "nested\n",
      "nested\n",
      "This is function argument\n",
      "This is function argument\n",
      "nested\n",
      "nested\n",
      "This is function argument\n",
      "This is function argument\n",
      "nested\n",
      "nested\n",
      "This is function argument\n",
      "This is function argument\n",
      "nested\n",
      "nested\n",
      "This is function argument\n",
      "This is function argument\n",
      "nested\n",
      "nested\n",
      "This is function argument\n",
      "This is function argument\n",
      "nested\n",
      "nested\n",
      "This is function argument\n",
      "This is function argument\n",
      "nested\n",
      "nested\n",
      "This is function argument\n",
      "This is function argument\n",
      "nested\n",
      "nested\n",
      "This is function argument\n",
      "This is function argument\n",
      "nested\n",
      "nested\n",
      "This is function argument\n",
      "This is function argument\n",
      "nested\n",
      "nested\n",
      "This is function argument\n",
      "This is function argument\n",
      "nested\n",
      "nested\n",
      "This is function argument\n",
      "This is function argument\n",
      "nested\n",
      "nested\n",
      "This is function argument\n",
      "This is function argument\n",
      "nested\n",
      "nested\n",
      "This is function argument\n",
      "This is function argument\n",
      "nested\n",
      "nested\n",
      "This is function argument\n",
      "This is function argument\n",
      "nested\n",
      "nested\n",
      "This is function argument\n",
      "This is function argument\n",
      "nested\n",
      "nested\n",
      "This is function argument\n",
      "This is function argument\n",
      "nested\n",
      "nested\n",
      "This is function argument\n",
      "This is function argument\n",
      "nested\n",
      "nested\n",
      "This is function argument\n",
      "This is function argument\n",
      "nested\n",
      "nested\n",
      "This is function argument\n",
      "This is function argument\n",
      "nested\n",
      "nested\n",
      "This is function argument\n",
      "This is function argument\n",
      "nested\n",
      "nested\n",
      "This is function argument\n",
      "This is function argument\n",
      "nested\n",
      "nested\n",
      "This is function argument\n",
      "This is function argument\n",
      "nested\n",
      "nested\n",
      "This is function argument\n",
      "This is function argument\n",
      "nested\n",
      "nested\n",
      "This is function argument\n",
      "This is function argument\n",
      "nested\n",
      "nested\n",
      "This is function argument\n",
      "This is function argument\n",
      "nested\n",
      "nested\n",
      "This is function argument\n",
      "This is function argument\n",
      "nested\n",
      "nested\n",
      "This is function argument\n",
      "This is function argument\n",
      "nested\n",
      "nested\n",
      "This is function argument\n",
      "This is function argument\n",
      "nested\n",
      "nested\n",
      "This is function argument\n",
      "This is function argument\n",
      "nested\n",
      "nested\n",
      "This is function argument\n",
      "This is function argument\n",
      "nested\n",
      "nested\n",
      "This is function argument\n",
      "This is function argument\n",
      "nested\n",
      "nested\n",
      "This is function argument\n",
      "This is function argument\n",
      "nested\n",
      "nested\n",
      "This is function argument\n",
      "This is function argument\n",
      "nested\n",
      "nested\n",
      "This is function argument\n",
      "This is function argument\n",
      "nested\n",
      "nested\n",
      "This is function argument\n",
      "This is function argument\n",
      "nested\n",
      "nested\n",
      "This is function argument\n",
      "This is function argument\n",
      "nested\n",
      "nested\n",
      "This is function argument\n",
      "This is function argument\n",
      "nested\n",
      "nested\n",
      "This is function argument\n",
      "This is function argument\n",
      "nested\n",
      "nested\n",
      "This is function argument\n",
      "This is function argument\n",
      "nested\n",
      "nested\n",
      "This is function argument\n",
      "This is function argument\n",
      "nested\n",
      "nested\n",
      "This is function argument\n",
      "This is function argument\n",
      "nested\n",
      "nested\n",
      "This is function argument\n",
      "This is function argument\n",
      "nested\n",
      "nested\n",
      "This is function argument\n",
      "This is function argument\n",
      "nested\n",
      "nested\n",
      "This is function argument\n",
      "This is function argument\n",
      "nested\n",
      "nested\n",
      "This is function argument\n",
      "This is function argument\n",
      "nested\n",
      "nested\n",
      "This is function argument\n",
      "This is function argument\n",
      "nested\n",
      "nested\n",
      "This is function argument\n",
      "This is function argument\n",
      "nested\n",
      "nested\n",
      "This is function argument\n",
      "This is function argument\n",
      "nested\n",
      "nested\n",
      "This is function argument\n",
      "This is function argument\n",
      "nested\n",
      "nested\n",
      "This is function argument\n",
      "This is function argument\n",
      "nested\n",
      "nested\n",
      "This is function argument\n",
      "This is function argument\n",
      "nested\n",
      "nested\n",
      "This is function argument\n",
      "This is function argument\n",
      "nested\n",
      "nested\n",
      "This is function argument\n",
      "This is function argument\n",
      "nested\n",
      "nested\n",
      "This is function argument\n",
      "This is function argument\n",
      "nested\n",
      "nested\n",
      "This is function argument\n",
      "This is function argument\n",
      "nested\n",
      "nested\n",
      "This is function argument\n",
      "This is function argument\n",
      "nested\n",
      "nested\n",
      "This is function argument\n",
      "This is function argument\n",
      "nested\n",
      "nested\n",
      "This is function argument\n",
      "This is function argument\n",
      "nested\n",
      "nested\n",
      "This is function argument\n",
      "This is function argument\n",
      "nested\n",
      "nested\n",
      "This is function argument\n",
      "This is function argument\n",
      "nested\n",
      "nested\n",
      "This is function argument\n",
      "This is function argument\n",
      "nested\n",
      "nested\n",
      "This is function argument\n",
      "This is function argument\n",
      "nested\n",
      "nested\n",
      "This is function argument\n",
      "This is function argument\n",
      "nested\n",
      "nested\n",
      "This is function argument\n",
      "This is function argument\n",
      "nested\n",
      "nested\n",
      "This is function argument\n",
      "This is function argument\n",
      "nested\n",
      "nested\n",
      "This is function argument\n",
      "This is function argument\n",
      "nested\n",
      "nested\n",
      "This is function argument\n",
      "This is function argument\n",
      "nested\n",
      "nested\n",
      "This is function argument\n",
      "This is function argument\n",
      "nested\n",
      "nested\n",
      "This is function argument\n",
      "This is function argument\n",
      "nested\n",
      "nested\n",
      "This is function argument\n",
      "This is function argument\n",
      "nested\n",
      "nested\n",
      "This is function argument\n",
      "This is function argument\n",
      "nested\n",
      "nested\n",
      "This is function argument\n",
      "This is function argument\n",
      "nested\n",
      "nested\n",
      "This is function argument\n",
      "This is function argument\n",
      "nested\n",
      "nested\n",
      "This is function argument\n",
      "This is function argument\n",
      "nested\n",
      "nested\n",
      "This is function argument\n",
      "This is function argument\n",
      "nested\n",
      "nested\n",
      "This is function argument\n",
      "This is function argument\n",
      "nested\n",
      "nested\n",
      "This is function argument\n",
      "This is function argument\n",
      "nested\n",
      "nested\n",
      "This is function argument\n",
      "This is function argument\n",
      "nested\n",
      "nested\n",
      "This is function argument\n",
      "This is function argument\n",
      "nested\n",
      "nested\n",
      "This is function argument\n",
      "This is function argument\n",
      "nested\n",
      "nested\n",
      "This is function argument\n",
      "This is function argument\n",
      "nested\n",
      "nested\n",
      "This is function argument\n",
      "This is function argument\n",
      "nested\n",
      "nested\n",
      "This is function argument\n",
      "This is function argument\n",
      "nested\n",
      "nested\n",
      "This is function argument\n",
      "This is function argument\n",
      "nested\n",
      "nested\n",
      "This is function argument\n",
      "This is function argument\n",
      "nested\n",
      "nested\n",
      "This is function argument\n",
      "This is function argument\n",
      "nested\n",
      "nested\n",
      "This is function argument\n",
      "This is function argument\n",
      "nested\n",
      "nested\n",
      "This is function argument\n",
      "This is function argument\n",
      "nested\n",
      "nested\n",
      "This is function argument\n",
      "This is function argument\n",
      "nested\n",
      "nested\n",
      "This is function argument\n",
      "This is function argument\n",
      "nested\n",
      "nested\n",
      "This is function argument\n",
      "This is function argument\n",
      "nested\n",
      "nested\n",
      "This is function argument\n",
      "This is function argument\n",
      "nested\n",
      "nested\n",
      "This is function argument\n",
      "This is function argument\n",
      "nested\n",
      "nested\n",
      "This is function argument\n",
      "This is function argument\n",
      "nested\n",
      "nested\n",
      "This is function argument\n",
      "This is function argument\n",
      "nested\n",
      "nested\n",
      "This is function argument\n",
      "This is function argument\n",
      "nested\n",
      "nested\n",
      "This is function argument\n",
      "This is function argument\n",
      "nested\n",
      "nested\n",
      "This is function argument\n",
      "This is function argument\n",
      "nested\n",
      "nested\n",
      "This is function argument\n",
      "This is function argument\n",
      "nested\n",
      "nested\n",
      "This is function argument\n",
      "This is function argument\n",
      "nested\n",
      "nested\n",
      "This is function argument\n",
      "This is function argument\n",
      "nested\n",
      "nested\n",
      "This is function argument\n",
      "This is function argument\n",
      "nested\n",
      "nested\n",
      "This is function argument\n",
      "This is function argument\n",
      "nested\n",
      "nested\n",
      "This is function argument\n",
      "This is function argument\n",
      "nested\n",
      "nested\n",
      "This is function argument\n",
      "This is function argument\n",
      "nested\n",
      "nested\n",
      "This is function argument\n",
      "This is function argument\n",
      "nested\n",
      "nested\n",
      "This is function argument\n",
      "This is function argument\n",
      "nested\n",
      "nested\n",
      "This is function argument\n",
      "This is function argument\n",
      "nested\n",
      "nested\n",
      "This is function argument\n",
      "This is function argument\n",
      "nested\n",
      "nested\n",
      "This is function argument\n",
      "This is function argument\n",
      "nested\n",
      "nested\n",
      "This is function argument\n",
      "This is function argument\n",
      "nested\n",
      "nested\n",
      "This is function argument\n",
      "This is function argument\n",
      "nested\n",
      "nested\n",
      "This is function argument\n",
      "This is function argument\n",
      "nested\n",
      "nested\n",
      "This is function argument\n",
      "This is function argument\n",
      "nested\n",
      "nested\n",
      "This is function argument\n",
      "This is function argument\n",
      "nested\n",
      "nested\n",
      "This is function argument\n",
      "This is function argument\n",
      "nested\n",
      "nested\n",
      "This is function argument\n",
      "This is function argument\n",
      "nested\n",
      "nested\n",
      "This is function argument\n",
      "This is function argument\n",
      "nested\n",
      "nested\n",
      "This is function argument\n",
      "This is function argument\n",
      "nested\n",
      "nested\n",
      "This is function argument\n",
      "This is function argument\n",
      "nested\n",
      "nested\n",
      "This is function argument\n",
      "This is function argument\n",
      "nested\n",
      "nested\n",
      "This is function argument\n",
      "This is function argument\n",
      "nested\n",
      "nested\n",
      "This is function argument\n",
      "This is function argument\n",
      "nested\n",
      "nested\n",
      "This is function argument\n",
      "This is function argument\n",
      "nested\n",
      "nested\n",
      "This is function argument\n",
      "This is function argument\n",
      "nested\n",
      "nested\n",
      "This is function argument\n",
      "This is function argument\n",
      "nested\n",
      "nested\n",
      "This is function argument\n",
      "This is function argument\n",
      "nested\n",
      "nested\n",
      "This is function argument\n",
      "This is function argument\n",
      "nested\n",
      "nested\n",
      "This is function argument\n",
      "This is function argument\n",
      "nested\n",
      "nested\n",
      "This is function argument\n",
      "This is function argument\n",
      "nested\n",
      "nested\n",
      "This is function argument\n",
      "This is function argument\n",
      "nested\n",
      "nested\n",
      "This is function argument\n",
      "This is function argument\n",
      "nested\n",
      "nested\n",
      "This is function argument\n",
      "This is function argument\n",
      "nested\n",
      "nested\n",
      "This is function argument\n",
      "This is function argument\n",
      "nested\n",
      "nested\n",
      "This is function argument\n",
      "This is function argument\n",
      "nested\n",
      "nested\n",
      "This is function argument\n",
      "This is function argument\n",
      "nested\n",
      "nested\n",
      "This is function argument\n",
      "This is function argument\n",
      "nested\n",
      "nested\n",
      "This is function argument\n",
      "This is function argument\n",
      "nested\n",
      "nested\n",
      "This is function argument\n",
      "This is function argument\n",
      "nested\n",
      "nested\n",
      "This is function argument\n",
      "This is function argument\n",
      "nested\n",
      "nested\n",
      "This is function argument\n",
      "This is function argument\n",
      "nested\n",
      "nested\n",
      "This is function argument\n",
      "This is function argument\n",
      "nested\n",
      "nested\n",
      "This is function argument\n",
      "This is function argument\n",
      "nested\n",
      "nested\n",
      "This is function argument\n",
      "This is function argument\n",
      "nested\n",
      "nested\n",
      "This is function argument\n",
      "This is function argument\n",
      "nested\n",
      "nested\n",
      "This is function argument\n",
      "This is function argument\n",
      "nested\n",
      "nested\n",
      "This is function argument\n",
      "This is function argument\n",
      "nested\n",
      "nested\n",
      "This is function argument\n",
      "This is function argument\n",
      "nested\n",
      "nested\n",
      "This is function argument\n",
      "This is function argument\n",
      "nested\n",
      "nested\n",
      "This is function argument\n",
      "This is function argument\n",
      "nested\n",
      "nested\n",
      "This is function argument\n",
      "This is function argument\n",
      "nested\n",
      "nested\n",
      "This is function argument\n",
      "This is function argument\n",
      "nested\n",
      "nested\n",
      "This is function argument\n",
      "This is function argument\n",
      "nested\n",
      "nested\n",
      "This is function argument\n",
      "This is function argument\n",
      "nested\n",
      "nested\n",
      "This is function argument\n",
      "This is function argument\n",
      "nested\n",
      "nested\n",
      "This is function argument\n",
      "This is function argument\n",
      "nested\n",
      "nested\n",
      "This is function argument\n",
      "This is function argument\n",
      "nested\n",
      "nested\n",
      "This is function argument\n",
      "This is function argument\n",
      "nested\n",
      "nested\n",
      "This is function argument\n",
      "This is function argument\n",
      "nested\n",
      "nested\n",
      "This is function argument\n",
      "This is function argument\n",
      "nested\n",
      "nested\n",
      "This is function argument\n",
      "This is function argument\n",
      "nested\n",
      "nested\n",
      "This is function argument\n",
      "This is function argument\n",
      "nested\n",
      "nested\n",
      "This is function argument\n",
      "This is function argument\n",
      "nested\n",
      "nested\n",
      "This is function argument\n",
      "This is function argument\n",
      "nested\n",
      "nested\n",
      "This is function argument\n",
      "This is function argument\n",
      "nested\n",
      "nested\n",
      "This is function argument\n",
      "This is function argument\n",
      "nested\n",
      "nested\n",
      "This is function argument\n",
      "This is function argument\n",
      "nested\n",
      "nested\n",
      "This is function argument\n",
      "This is function argument\n",
      "nested\n",
      "nested\n",
      "This is function argument\n",
      "This is function argument\n",
      "nested\n",
      "nested\n",
      "This is function argument\n",
      "This is function argument\n",
      "nested\n",
      "nested\n",
      "This is function argument\n",
      "This is function argument\n",
      "nested\n",
      "nested\n",
      "This is function argument\n",
      "This is function argument\n",
      "nested\n",
      "nested\n",
      "This is function argument\n",
      "This is function argument\n",
      "nested\n",
      "nested\n",
      "This is function argument\n",
      "This is function argument\n",
      "nested\n",
      "nested\n",
      "This is function argument\n",
      "This is function argument\n",
      "nested\n",
      "nested\n",
      "This is function argument\n",
      "This is function argument\n",
      "nested\n",
      "nested\n",
      "This is function argument\n",
      "This is function argument\n",
      "nested\n",
      "nested\n",
      "This is function argument\n",
      "This is function argument\n",
      "nested\n",
      "nested\n",
      "This is function argument\n",
      "This is function argument\n",
      "nested\n",
      "nested\n",
      "This is function argument\n",
      "This is function argument\n",
      "nested\n",
      "nested\n",
      "This is function argument\n",
      "This is function argument\n",
      "nested\n",
      "nested\n",
      "This is function argument\n",
      "This is function argument\n",
      "nested\n",
      "nested\n",
      "This is function argument\n",
      "This is function argument\n",
      "nested\n",
      "nested\n",
      "This is function argument\n",
      "This is function argument\n",
      "nested\n",
      "nested\n",
      "This is function argument\n",
      "This is function argument\n",
      "nested\n",
      "nested\n",
      "This is function argument\n",
      "This is function argument\n",
      "nested\n",
      "nested\n",
      "This is function argument\n",
      "This is function argument\n",
      "nested\n",
      "nested\n",
      "This is function argument\n",
      "This is function argument\n",
      "nested\n",
      "nested\n",
      "This is function argument\n",
      "This is function argument\n",
      "nested\n",
      "nested\n",
      "This is function argument\n",
      "This is function argument\n",
      "nested\n",
      "nested\n",
      "This is function argument\n",
      "This is function argument\n",
      "nested\n",
      "nested\n",
      "This is function argument\n",
      "This is function argument\n",
      "nested\n",
      "nested\n",
      "This is function argument\n",
      "This is function argument\n",
      "nested\n",
      "nested\n",
      "This is function argument\n",
      "This is function argument\n",
      "nested\n",
      "nested\n",
      "This is function argument\n",
      "This is function argument\n",
      "nested\n",
      "nested\n",
      "This is function argument\n",
      "This is function argument\n",
      "nested\n",
      "nested\n",
      "This is function argument\n",
      "This is function argument\n",
      "nested\n",
      "nested\n",
      "This is function argument\n",
      "This is function argument\n",
      "nested\n",
      "nested\n",
      "This is function argument\n",
      "This is function argument\n",
      "nested\n",
      "nested\n",
      "This is function argument\n",
      "This is function argument\n",
      "nested\n",
      "nested\n",
      "This is function argument\n",
      "This is function argument\n",
      "nested\n",
      "nested\n",
      "This is function argument\n",
      "This is function argument\n",
      "nested\n",
      "nested\n",
      "This is function argument\n",
      "This is function argument\n",
      "nested\n",
      "nested\n",
      "This is function argument\n",
      "This is function argument\n",
      "nested\n",
      "nested\n",
      "This is function argument\n",
      "This is function argument\n",
      "nested\n",
      "nested\n",
      "This is function argument\n",
      "This is function argument\n",
      "nested\n",
      "nested\n",
      "This is function argument\n",
      "This is function argument\n",
      "nested\n",
      "nested\n",
      "This is function argument\n",
      "This is function argument\n",
      "nested\n",
      "nested\n",
      "This is function argument\n",
      "This is function argument\n",
      "nested\n",
      "nested\n",
      "This is function argument\n",
      "This is function argument\n",
      "nested\n",
      "nested\n",
      "This is function argument\n",
      "This is function argument\n",
      "nested\n",
      "nested\n",
      "This is function argument\n",
      "This is function argument\n",
      "nested\n",
      "nested\n",
      "This is function argument\n",
      "This is function argument\n",
      "nested\n",
      "nested\n",
      "This is function argument\n",
      "This is function argument\n",
      "nested\n",
      "nested\n",
      "This is function argument\n",
      "This is function argument\n",
      "nested\n",
      "nested\n",
      "This is function argument\n",
      "This is function argument\n",
      "nested\n",
      "nested\n",
      "This is function argument\n",
      "This is function argument\n",
      "nested\n",
      "nested\n",
      "This is function argument\n",
      "This is function argument\n",
      "nested\n",
      "nested\n",
      "This is function argument\n",
      "This is function argument\n",
      "nested\n",
      "nested\n",
      "This is function argument\n",
      "This is function argument\n",
      "nested\n",
      "nested\n",
      "This is function argument\n",
      "This is function argument\n",
      "nested\n",
      "nested\n",
      "This is function argument\n",
      "This is function argument\n",
      "nested\n",
      "nested\n",
      "This is function argument\n",
      "This is function argument\n",
      "nested\n",
      "nested\n",
      "This is function argument\n",
      "This is function argument\n",
      "nested\n",
      "nested\n",
      "This is function argument\n",
      "This is function argument\n",
      "nested\n",
      "nested\n",
      "This is function argument\n",
      "This is function argument\n",
      "nested\n",
      "nested\n",
      "This is function argument\n",
      "This is function argument\n",
      "nested\n",
      "nested\n",
      "This is function argument\n",
      "This is function argument\n",
      "nested\n",
      "nested\n",
      "This is function argument\n",
      "This is function argument\n",
      "nested\n",
      "nested\n",
      "This is function argument\n",
      "This is function argument\n",
      "nested\n",
      "nested\n",
      "This is function argument\n",
      "This is function argument\n",
      "nested\n",
      "nested\n",
      "This is function argument\n",
      "This is function argument\n",
      "nested\n",
      "nested\n",
      "This is function argument\n",
      "This is function argument\n",
      "nested\n",
      "nested\n",
      "This is function argument\n",
      "This is function argument\n",
      "nested\n",
      "nested\n",
      "This is function argument\n",
      "This is function argument\n",
      "nested\n",
      "nested\n",
      "This is function argument\n",
      "This is function argument\n",
      "nested\n",
      "nested\n",
      "This is function argument\n",
      "This is function argument\n",
      "nested\n",
      "nested\n",
      "This is function argument\n",
      "This is function argument\n",
      "nested\n",
      "nested\n",
      "This is function argument\n",
      "This is function argument\n",
      "nested\n",
      "nested\n",
      "This is function argument\n",
      "This is function argument\n",
      "nested\n",
      "nested\n",
      "This is function argument\n",
      "This is function argument\n",
      "nested\n",
      "nested\n",
      "This is function argument\n",
      "This is function argument\n",
      "nested\n",
      "nested\n",
      "This is function argument\n",
      "This is function argument\n",
      "nested\n",
      "nested\n",
      "This is function argument\n",
      "This is function argument\n",
      "nested\n",
      "nested\n",
      "This is function argument\n",
      "This is function argument\n",
      "nested\n",
      "nested\n",
      "This is function argument\n",
      "This is function argument\n",
      "nested\n",
      "nested\n",
      "This is function argument\n",
      "This is function argument\n",
      "nested\n",
      "nested\n",
      "This is function argument\n",
      "This is function argument\n",
      "nested\n",
      "nested\n",
      "This is function argument\n",
      "This is function argument\n",
      "nested\n",
      "nested\n",
      "This is function argument\n",
      "This is function argument\n",
      "nested\n",
      "nested\n",
      "This is function argument\n",
      "This is function argument\n",
      "nested\n",
      "nested\n",
      "This is function argument\n",
      "This is function argument\n",
      "nested\n",
      "nested\n",
      "This is function argument\n",
      "This is function argument\n",
      "nested\n",
      "nested\n",
      "This is function argument\n",
      "This is function argument\n",
      "nested\n",
      "nested\n",
      "This is function argument\n",
      "This is function argument\n",
      "nested\n",
      "nested\n",
      "This is function argument\n",
      "This is function argument\n",
      "nested\n",
      "nested\n",
      "This is function argument\n",
      "This is function argument\n",
      "nested\n",
      "nested\n",
      "This is function argument\n",
      "This is function argument\n",
      "nested\n",
      "nested\n",
      "This is function argument\n",
      "This is function argument\n",
      "nested\n",
      "nested\n",
      "This is function argument\n",
      "This is function argument\n",
      "nested\n",
      "nested\n",
      "This is function argument\n",
      "This is function argument\n",
      "nested\n",
      "nested\n",
      "This is function argument\n",
      "This is function argument\n",
      "nested\n",
      "nested\n",
      "This is function argument\n",
      "This is function argument\n",
      "nested\n",
      "nested\n",
      "This is function argument\n",
      "This is function argument\n",
      "nested\n",
      "nested\n",
      "This is function argument\n",
      "This is function argument\n",
      "nested\n",
      "nested\n",
      "This is function argument\n",
      "This is function argument\n",
      "nested\n",
      "nested\n",
      "This is function argument\n",
      "This is function argument\n",
      "nested\n",
      "nested\n",
      "This is function argument\n",
      "This is function argument\n",
      "nested\n",
      "nested\n",
      "This is function argument\n",
      "This is function argument\n",
      "nested\n",
      "nested\n",
      "This is function argument\n",
      "This is function argument\n",
      "nested\n",
      "nested\n",
      "This is function argument\n",
      "This is function argument\n",
      "nested\n",
      "nested\n",
      "This is function argument\n",
      "This is function argument\n",
      "nested\n",
      "nested\n",
      "This is function argument\n",
      "This is function argument\n",
      "nested\n",
      "nested\n",
      "This is function argument\n",
      "This is function argument\n",
      "nested\n",
      "nested\n",
      "This is function argument\n",
      "This is function argument\n",
      "nested\n",
      "nested\n",
      "This is function argument\n",
      "This is function argument\n",
      "nested\n",
      "nested\n",
      "This is function argument\n",
      "This is function argument\n",
      "nested\n",
      "nested\n",
      "This is function argument\n",
      "This is function argument\n",
      "nested\n",
      "nested\n",
      "This is function argument\n",
      "This is function argument\n",
      "nested\n",
      "nested\n",
      "This is function argument\n",
      "This is function argument\n",
      "nested\n",
      "nested\n",
      "This is function argument\n",
      "This is function argument\n",
      "nested\n",
      "nested\n",
      "This is function argument\n",
      "This is function argument\n",
      "nested\n",
      "nested\n",
      "This is function argument\n",
      "This is function argument\n",
      "nested\n",
      "nested\n",
      "This is function argument\n",
      "This is function argument\n",
      "nested\n",
      "nested\n",
      "This is function argument\n",
      "This is function argument\n",
      "nested\n",
      "nested\n",
      "This is function argument\n",
      "This is function argument\n",
      "nested\n",
      "nested\n",
      "This is function argument\n",
      "This is function argument\n",
      "nested\n",
      "nested\n",
      "This is function argument\n",
      "This is function argument\n",
      "nested\n",
      "nested\n",
      "This is function argument\n",
      "This is function argument\n",
      "nested\n",
      "nested\n",
      "This is function argument\n",
      "This is function argument\n",
      "nested\n",
      "nested\n",
      "This is function argument\n",
      "This is function argument\n",
      "nested\n",
      "nested\n",
      "This is function argument\n",
      "This is function argument\n",
      "nested\n",
      "nested\n",
      "This is function argument\n",
      "This is function argument\n",
      "nested\n",
      "nested\n",
      "This is function argument\n",
      "This is function argument\n",
      "nested\n",
      "nested\n",
      "This is function argument\n",
      "This is function argument\n",
      "nested\n",
      "nested\n",
      "This is function argument\n",
      "This is function argument\n",
      "nested\n",
      "nested\n",
      "This is function argument\n",
      "This is function argument\n",
      "nested\n",
      "nested\n",
      "This is function argument\n",
      "This is function argument\n",
      "nested\n",
      "nested\n",
      "This is function argument\n",
      "This is function argument\n",
      "nested\n",
      "nested\n",
      "This is function argument\n",
      "This is function argument\n",
      "nested\n",
      "nested\n",
      "This is function argument\n",
      "This is function argument\n",
      "nested\n",
      "nested\n",
      "This is function argument\n",
      "This is function argument\n",
      "nested\n",
      "nested\n",
      "This is function argument\n",
      "This is function argument\n",
      "nested\n",
      "nested\n",
      "This is function argument\n",
      "This is function argument\n",
      "nested\n",
      "nested\n",
      "This is function argument\n",
      "This is function argument\n",
      "nested\n",
      "nested\n",
      "This is function argument\n",
      "This is function argument\n",
      "nested\n",
      "nested\n",
      "This is function argument\n",
      "This is function argument\n",
      "nested\n",
      "nested\n",
      "This is function argument\n",
      "This is function argument\n",
      "nested\n",
      "nested\n",
      "This is function argument\n",
      "This is function argument\n",
      "nested\n",
      "nested\n",
      "This is function argument\n",
      "This is function argument\n",
      "nested\n",
      "nested\n",
      "This is function argument\n",
      "This is function argument\n",
      "nested\n",
      "nested\n",
      "This is function argument\n",
      "This is function argument\n",
      "nested\n",
      "nested\n",
      "This is function argument\n",
      "This is function argument\n",
      "nested\n",
      "nested\n",
      "This is function argument\n",
      "This is function argument\n",
      "nested\n",
      "nested\n",
      "This is function argument\n",
      "This is function argument\n",
      "nested\n",
      "nested\n",
      "This is function argument\n",
      "This is function argument\n",
      "nested\n",
      "nested\n",
      "This is function argument\n",
      "This is function argument\n",
      "nested\n",
      "nested\n",
      "This is function argument\n",
      "This is function argument\n",
      "nested\n",
      "nested\n",
      "This is function argument\n",
      "This is function argument\n",
      "nested\n",
      "nested\n",
      "This is function argument\n",
      "This is function argument\n",
      "nested\n",
      "nested\n",
      "This is function argument\n",
      "This is function argument\n",
      "nested\n",
      "nested\n",
      "This is function argument\n",
      "This is function argument\n",
      "nested\n",
      "nested\n",
      "This is function argument\n",
      "This is function argument\n",
      "nested\n",
      "nested\n",
      "This is function argument\n",
      "This is function argument\n",
      "nested\n",
      "nested\n",
      "This is function argument\n",
      "This is function argument\n",
      "nested\n",
      "nested\n",
      "This is function argument\n",
      "This is function argument\n",
      "nested\n",
      "nested\n",
      "This is function argument\n",
      "This is function argument\n",
      "nested\n",
      "nested\n",
      "This is function argument\n",
      "This is function argument\n",
      "nested\n",
      "nested\n",
      "This is function argument\n",
      "This is function argument\n",
      "nested\n",
      "nested\n",
      "This is function argument\n",
      "This is function argument\n",
      "nested\n",
      "nested\n",
      "This is function argument\n",
      "This is function argument\n",
      "nested\n",
      "nested\n",
      "This is function argument\n",
      "This is function argument\n",
      "nested\n",
      "nested\n",
      "This is function argument\n",
      "This is function argument\n",
      "nested\n",
      "nested\n",
      "This is function argument\n",
      "This is function argument\n",
      "nested\n",
      "nested\n",
      "This is function argument\n",
      "This is function argument\n",
      "nested\n",
      "nested\n",
      "This is function argument\n",
      "This is function argument\n",
      "nested\n",
      "nested\n",
      "This is function argument\n",
      "This is function argument\n",
      "nested\n",
      "nested\n",
      "This is function argument\n",
      "This is function argument\n",
      "nested\n",
      "nested\n",
      "This is function argument\n",
      "This is function argument\n",
      "nested\n",
      "nested\n",
      "This is function argument\n",
      "This is function argument\n",
      "nested\n",
      "nested\n",
      "This is function argument\n",
      "This is function argument\n",
      "nested\n",
      "nested\n",
      "This is function argument\n",
      "This is function argument\n",
      "nested\n",
      "nested\n",
      "This is function argument\n",
      "This is function argument\n",
      "nested\n",
      "nested\n",
      "This is function argument\n",
      "This is function argument\n",
      "nested\n",
      "nested\n",
      "This is function argument\n",
      "This is function argument\n",
      "nested\n",
      "nested\n",
      "This is function argument\n",
      "This is function argument\n",
      "nested\n",
      "nested\n",
      "This is function argument\n",
      "This is function argument\n",
      "nested\n",
      "nested\n",
      "This is function argument\n",
      "This is function argument\n",
      "nested\n",
      "nested\n",
      "This is function argument\n",
      "This is function argument\n",
      "nested\n",
      "nested\n",
      "This is function argument\n",
      "This is function argument\n",
      "nested\n",
      "nested\n",
      "This is function argument\n",
      "This is function argument\n",
      "nested\n",
      "nested\n",
      "This is function argument\n",
      "This is function argument\n",
      "nested\n",
      "nested\n",
      "This is function argument\n",
      "This is function argument\n",
      "nested\n",
      "nested\n",
      "This is function argument\n",
      "This is function argument\n",
      "nested\n",
      "nested\n",
      "This is function argument\n",
      "This is function argument\n",
      "nested\n",
      "nested\n",
      "This is function argument\n",
      "This is function argument\n",
      "nested\n",
      "nested\n",
      "This is function argument\n",
      "This is function argument\n",
      "nested\n",
      "nested\n",
      "This is function argument\n",
      "This is function argument\n",
      "nested\n",
      "nested\n",
      "This is function argument\n",
      "This is function argument\n",
      "nested\n",
      "nested\n",
      "This is function argument\n",
      "This is function argument\n",
      "nested\n",
      "nested\n",
      "This is function argument\n",
      "This is function argument\n",
      "nested\n",
      "nested\n",
      "This is function argument\n",
      "This is function argument\n",
      "nested\n",
      "nested\n",
      "This is function argument\n",
      "This is function argument\n",
      "nested\n",
      "nested\n",
      "This is function argument\n",
      "This is function argument\n",
      "nested\n",
      "nested\n",
      "This is function argument\n",
      "This is function argument\n",
      "nested\n",
      "nested\n",
      "This is function argument\n",
      "This is function argument\n",
      "nested\n",
      "nested\n",
      "This is function argument\n",
      "This is function argument\n",
      "nested\n",
      "nested\n",
      "This is function argument\n",
      "This is function argument\n",
      "nested\n",
      "nested\n",
      "This is function argument\n",
      "This is function argument\n",
      "nested\n",
      "nested\n",
      "This is function argument\n",
      "This is function argument\n",
      "nested\n",
      "nested\n",
      "This is function argument\n",
      "This is function argument\n",
      "nested\n",
      "nested\n",
      "This is function argument\n",
      "This is function argument\n",
      "nested\n",
      "nested\n",
      "This is function argument\n",
      "This is function argument\n",
      "nested\n",
      "nested\n",
      "This is function argument\n",
      "This is function argument\n",
      "nested\n",
      "nested\n",
      "This is function argument\n",
      "This is function argument\n",
      "nested\n",
      "nested\n",
      "This is function argument\n",
      "This is function argument\n",
      "nested\n",
      "nested\n",
      "This is function argument\n",
      "This is function argument\n",
      "nested\n",
      "nested\n",
      "This is function argument\n",
      "This is function argument\n",
      "nested\n",
      "nested\n",
      "This is function argument\n",
      "This is function argument\n",
      "nested\n",
      "nested\n",
      "This is function argument\n",
      "This is function argument\n",
      "nested\n",
      "nested\n",
      "This is function argument\n",
      "This is function argument\n",
      "nested\n",
      "nested\n",
      "This is function argument\n",
      "This is function argument\n",
      "nested\n",
      "nested\n",
      "This is function argument\n",
      "This is function argument\n",
      "nested\n",
      "nested\n",
      "This is function argument\n",
      "This is function argument\n",
      "nested\n",
      "nested\n",
      "This is function argument\n",
      "This is function argument\n",
      "nested\n",
      "nested\n",
      "This is function argument\n",
      "This is function argument\n",
      "nested\n",
      "nested\n",
      "This is function argument\n",
      "This is function argument\n",
      "nested\n",
      "nested\n",
      "This is function argument\n",
      "This is function argument\n",
      "nested\n",
      "nested\n",
      "This is function argument\n",
      "This is function argument\n",
      "nested\n",
      "nested\n",
      "This is function argument\n",
      "This is function argument\n",
      "nested\n",
      "nested\n",
      "This is function argument\n",
      "This is function argument\n",
      "nested\n",
      "nested\n",
      "This is function argument\n",
      "This is function argument\n",
      "nested\n",
      "nested\n",
      "This is function argument\n",
      "This is function argument\n",
      "nested\n",
      "nested\n",
      "This is function argument\n",
      "This is function argument\n",
      "nested\n",
      "nested\n",
      "This is function argument\n",
      "This is function argument\n",
      "nested\n",
      "nested\n",
      "This is function argument\n",
      "This is function argument\n",
      "nested\n",
      "nested\n",
      "This is function argument\n",
      "This is function argument\n",
      "nested\n",
      "nested\n",
      "This is function argument\n",
      "This is function argument\n",
      "nested\n",
      "nested\n",
      "This is function argument\n",
      "This is function argument\n",
      "nested\n",
      "nested\n",
      "This is function argument\n",
      "This is function argument\n",
      "nested\n",
      "nested\n",
      "This is function argument\n",
      "This is function argument\n",
      "nested\n",
      "nested\n",
      "This is function argument\n",
      "This is function argument\n",
      "nested\n",
      "nested\n",
      "This is function argument\n",
      "This is function argument\n",
      "nested\n",
      "nested\n",
      "This is function argument\n",
      "This is function argument\n",
      "nested\n",
      "nested\n",
      "This is function argument\n"
     ]
    },
    {
     "name": "stdout",
     "output_type": "stream",
     "text": [
      "This is function argument\n",
      "nested\n",
      "nested\n",
      "This is function argument\n",
      "This is function argument\n",
      "nested\n",
      "nested\n",
      "This is function argument\n",
      "This is function argument\n",
      "nested\n",
      "nested\n",
      "This is function argument\n",
      "This is function argument\n",
      "nested\n",
      "nested\n",
      "This is function argument\n",
      "This is function argument\n",
      "nested\n",
      "nested\n",
      "This is function argument\n",
      "This is function argument\n",
      "nested\n",
      "nested\n",
      "This is function argument\n",
      "This is function argument\n",
      "nested\n",
      "nested\n",
      "This is function argument\n",
      "This is function argument\n",
      "nested\n",
      "nested\n",
      "This is function argument\n",
      "This is function argument\n",
      "nested\n",
      "nested\n",
      "This is function argument\n",
      "This is function argument\n",
      "nested\n",
      "nested\n",
      "This is function argument\n",
      "This is function argument\n",
      "nested\n",
      "nested\n",
      "This is function argument\n",
      "This is function argument\n",
      "nested\n",
      "nested\n",
      "This is function argument\n",
      "This is function argument\n",
      "nested\n",
      "nested\n",
      "This is function argument\n",
      "This is function argument\n",
      "nested\n",
      "nested\n",
      "This is function argument\n",
      "This is function argument\n",
      "nested\n",
      "nested\n",
      "This is function argument\n",
      "This is function argument\n",
      "nested\n",
      "nested\n",
      "This is function argument\n",
      "This is function argument\n",
      "nested\n",
      "nested\n",
      "This is function argument\n",
      "This is function argument\n",
      "nested\n",
      "nested\n",
      "This is function argument\n",
      "This is function argument\n",
      "nested\n",
      "nested\n",
      "This is function argument\n",
      "This is function argument\n",
      "nested\n",
      "nested\n",
      "This is function argument\n",
      "This is function argument\n",
      "nested\n",
      "nested\n",
      "This is function argument\n",
      "This is function argument\n",
      "nested\n",
      "nested\n",
      "This is function argument\n",
      "This is function argument\n",
      "nested\n",
      "nested\n",
      "This is function argument\n",
      "This is function argument\n",
      "nested\n",
      "nested\n",
      "This is function argument\n",
      "This is function argument\n",
      "nested\n",
      "nested\n",
      "This is function argument\n",
      "This is function argument\n",
      "nested\n",
      "nested\n",
      "This is function argument\n",
      "This is function argument\n",
      "nested\n",
      "nested\n",
      "This is function argument\n",
      "This is function argument\n",
      "nested\n",
      "nested\n",
      "This is function argument\n",
      "This is function argument\n",
      "nested\n",
      "nested\n",
      "This is function argument\n",
      "This is function argument\n",
      "nested\n",
      "nested\n",
      "This is function argument\n",
      "This is function argument\n",
      "nested\n",
      "nested\n",
      "This is function argument\n",
      "This is function argument\n",
      "nested\n",
      "nested\n",
      "This is function argument\n",
      "This is function argument\n",
      "nested\n",
      "nested\n",
      "This is function argument\n",
      "This is function argument\n",
      "nested\n",
      "nested\n",
      "This is function argument\n",
      "This is function argument\n",
      "nested\n",
      "nested\n",
      "This is function argument\n",
      "This is function argument\n",
      "nested\n",
      "nested\n",
      "This is function argument\n",
      "This is function argument\n",
      "nested\n",
      "nested\n",
      "This is function argument\n",
      "This is function argument\n",
      "nested\n",
      "nested\n",
      "This is function argument\n",
      "This is function argument\n",
      "nested\n",
      "nested\n",
      "This is function argument\n",
      "This is function argument\n",
      "nested\n",
      "nested\n",
      "This is function argument\n",
      "This is function argument\n",
      "nested\n",
      "nested\n",
      "This is function argument\n",
      "This is function argument\n",
      "nested\n",
      "nested\n",
      "This is function argument\n",
      "This is function argument\n",
      "nested\n",
      "nested\n",
      "This is function argument\n",
      "This is function argument\n",
      "nested\n",
      "nested\n",
      "This is function argument\n",
      "This is function argument\n",
      "nested\n",
      "nested\n",
      "This is function argument\n",
      "This is function argument\n",
      "nested\n",
      "nested\n",
      "This is function argument\n",
      "This is function argument\n",
      "nested\n",
      "nested\n",
      "This is function argument\n",
      "This is function argument\n",
      "nested\n",
      "nested\n",
      "This is function argument\n",
      "This is function argument\n",
      "nested\n",
      "nested\n",
      "This is function argument\n",
      "This is function argument\n",
      "nested\n",
      "nested\n",
      "This is function argument\n",
      "This is function argument\n",
      "nested\n",
      "nested\n",
      "This is function argument\n",
      "This is function argument\n",
      "nested\n",
      "nested\n",
      "This is function argument\n",
      "This is function argument\n",
      "nested\n",
      "nested\n",
      "This is function argument\n",
      "This is function argument\n",
      "nested\n",
      "nested\n",
      "This is function argument\n",
      "This is function argument\n",
      "nested\n",
      "nested\n",
      "This is function argument\n",
      "This is function argument\n",
      "nested\n",
      "nested\n",
      "This is function argument\n",
      "This is function argument\n",
      "nested\n",
      "nested\n",
      "This is function argument\n",
      "This is function argument\n",
      "nested\n",
      "nested\n",
      "This is function argument\n",
      "This is function argument\n",
      "nested\n",
      "nested\n",
      "This is function argument\n",
      "This is function argument\n",
      "nested\n",
      "nested\n",
      "This is function argument\n",
      "This is function argument\n",
      "nested\n",
      "nested\n",
      "This is function argument\n",
      "This is function argument\n",
      "nested\n",
      "nested\n",
      "This is function argument\n",
      "This is function argument\n",
      "nested\n",
      "nested\n",
      "This is function argument\n",
      "This is function argument\n",
      "nested\n",
      "nested\n",
      "This is function argument\n",
      "This is function argument\n",
      "nested\n",
      "nested\n",
      "This is function argument\n",
      "This is function argument\n",
      "nested\n",
      "nested\n",
      "This is function argument\n",
      "This is function argument\n",
      "nested\n",
      "nested\n",
      "This is function argument\n",
      "This is function argument\n",
      "nested\n",
      "nested\n",
      "This is function argument\n",
      "This is function argument\n",
      "nested\n",
      "nested\n",
      "This is function argument\n",
      "This is function argument\n",
      "nested\n",
      "nested\n",
      "This is function argument\n",
      "This is function argument\n",
      "nested\n",
      "nested\n",
      "This is function argument\n",
      "This is function argument\n",
      "nested\n",
      "nested\n",
      "This is function argument\n",
      "This is function argument\n",
      "nested\n",
      "nested\n",
      "This is function argument\n",
      "This is function argument\n",
      "nested\n",
      "nested\n",
      "This is function argument\n",
      "This is function argument\n",
      "nested\n",
      "nested\n",
      "This is function argument\n",
      "This is function argument\n",
      "nested\n",
      "nested\n",
      "This is function argument\n",
      "This is function argument\n",
      "nested\n",
      "nested\n",
      "This is function argument\n",
      "This is function argument\n",
      "nested\n",
      "nested\n",
      "This is function argument\n",
      "This is function argument\n",
      "nested\n",
      "nested\n",
      "This is function argument\n",
      "This is function argument\n",
      "nested\n",
      "nested\n",
      "This is function argument\n",
      "This is function argument\n",
      "nested\n",
      "nested\n",
      "This is function argument\n",
      "This is function argument\n",
      "nested\n",
      "nested\n",
      "This is function argument\n",
      "This is function argument\n",
      "nested\n",
      "nested\n",
      "This is function argument\n",
      "This is function argument\n",
      "nested\n",
      "nested\n",
      "This is function argument\n",
      "This is function argument\n",
      "nested\n",
      "nested\n",
      "This is function argument\n",
      "This is function argument\n",
      "nested\n",
      "nested\n",
      "This is function argument\n",
      "This is function argument\n",
      "nested\n",
      "nested\n",
      "This is function argument\n",
      "This is function argument\n",
      "nested\n",
      "nested\n",
      "This is function argument\n",
      "This is function argument\n",
      "nested\n",
      "nested\n",
      "This is function argument\n",
      "This is function argument\n",
      "nested\n",
      "nested\n",
      "This is function argument\n",
      "This is function argument\n",
      "nested\n",
      "nested\n",
      "This is function argument\n",
      "This is function argument\n",
      "nested\n",
      "nested\n",
      "This is function argument\n",
      "This is function argument\n",
      "nested\n",
      "nested\n",
      "This is function argument\n",
      "This is function argument\n",
      "nested\n",
      "nested\n",
      "This is function argument\n",
      "This is function argument\n",
      "nested\n",
      "nested\n",
      "This is function argument\n",
      "This is function argument\n",
      "nested\n",
      "nested\n",
      "This is function argument\n",
      "This is function argument\n",
      "nested\n",
      "nested\n",
      "This is function argument\n",
      "This is function argument\n",
      "nested\n",
      "nested\n",
      "This is function argument\n",
      "This is function argument\n",
      "nested\n",
      "nested\n",
      "This is function argument\n",
      "This is function argument\n",
      "nested\n",
      "nested\n",
      "This is function argument\n",
      "This is function argument\n",
      "nested\n",
      "nested\n",
      "This is function argument\n",
      "This is function argument\n",
      "nested\n",
      "nested\n",
      "This is function argument\n",
      "This is function argument\n",
      "nested\n",
      "nested\n",
      "This is function argument\n",
      "This is function argument\n",
      "nested\n",
      "nested\n",
      "This is function argument\n",
      "This is function argument\n",
      "nested\n",
      "nested\n",
      "This is function argument\n",
      "This is function argument\n",
      "nested\n",
      "nested\n",
      "This is function argument\n",
      "This is function argument\n",
      "nested\n",
      "nested\n",
      "This is function argument\n",
      "This is function argument\n",
      "nested\n",
      "nested\n",
      "This is function argument\n",
      "This is function argument\n",
      "nested\n",
      "nested\n",
      "This is function argument\n",
      "This is function argument\n",
      "nested\n",
      "nested\n",
      "This is function argument\n",
      "This is function argument\n",
      "nested\n",
      "nested\n",
      "This is function argument\n",
      "This is function argument\n",
      "nested\n",
      "nested\n",
      "This is function argument\n",
      "This is function argument\n",
      "nested\n",
      "nested\n",
      "This is function argument\n",
      "This is function argument\n",
      "nested\n",
      "nested\n",
      "This is function argument\n",
      "This is function argument\n",
      "nested\n",
      "nested\n",
      "This is function argument\n",
      "This is function argument\n",
      "nested\n",
      "nested\n",
      "This is function argument\n",
      "This is function argument\n",
      "nested\n",
      "nested\n",
      "This is function argument\n",
      "This is function argument\n",
      "nested\n",
      "nested\n",
      "This is function argument\n",
      "This is function argument\n",
      "nested\n",
      "nested\n",
      "This is function argument\n",
      "This is function argument\n",
      "nested\n",
      "nested\n",
      "This is function argument\n",
      "This is function argument\n",
      "nested\n",
      "nested\n",
      "This is function argument\n",
      "This is function argument\n",
      "nested\n",
      "nested\n",
      "This is function argument\n",
      "This is function argument\n",
      "nested\n",
      "nested\n",
      "This is function argument\n",
      "This is function argument\n",
      "nested\n",
      "nested\n",
      "This is function argument\n",
      "This is function argument\n",
      "nested\n",
      "nested\n",
      "This is function argument\n",
      "This is function argument\n",
      "nested\n",
      "nested\n",
      "This is function argument\n",
      "This is function argument\n",
      "nested\n",
      "nested\n",
      "This is function argument\n",
      "This is function argument\n",
      "nested\n",
      "nested\n",
      "This is function argument\n",
      "This is function argument\n",
      "nested\n",
      "nested\n",
      "This is function argument\n",
      "This is function argument\n",
      "nested\n",
      "nested\n",
      "This is function argument\n",
      "This is function argument\n",
      "nested\n",
      "nested\n",
      "This is function argument\n",
      "This is function argument\n",
      "nested\n",
      "nested\n",
      "This is function argument\n",
      "This is function argument\n",
      "nested\n",
      "nested\n",
      "This is function argument\n",
      "This is function argument\n",
      "nested\n",
      "nested\n",
      "This is function argument\n",
      "This is function argument\n",
      "nested\n",
      "nested\n",
      "This is function argument\n",
      "This is function argument\n",
      "nested\n",
      "nested\n",
      "This is function argument\n",
      "This is function argument\n",
      "nested\n",
      "nested\n",
      "This is function argument\n",
      "This is function argument\n",
      "nested\n",
      "nested\n",
      "This is function argument\n",
      "This is function argument\n",
      "nested\n",
      "nested\n",
      "This is function argument\n",
      "This is function argument\n",
      "nested\n",
      "nested\n",
      "This is function argument\n",
      "This is function argument\n",
      "nested\n",
      "nested\n",
      "This is function argument\n",
      "This is function argument\n",
      "nested\n",
      "nested\n",
      "This is function argument\n",
      "This is function argument\n",
      "nested\n",
      "nested\n",
      "This is function argument\n",
      "This is function argument\n",
      "nested\n",
      "nested\n",
      "This is function argument\n",
      "This is function argument\n",
      "nested\n",
      "nested\n",
      "This is function argument\n",
      "This is function argument\n",
      "nested\n",
      "nested\n",
      "This is function argument\n",
      "This is function argument\n",
      "nested\n",
      "nested\n",
      "This is function argument\n",
      "This is function argument\n",
      "nested\n",
      "nested\n",
      "This is function argument\n",
      "This is function argument\n",
      "nested\n",
      "nested\n",
      "This is function argument\n",
      "This is function argument\n",
      "nested\n",
      "nested\n",
      "This is function argument\n",
      "This is function argument\n",
      "nested\n",
      "nested\n",
      "This is function argument\n",
      "This is function argument\n",
      "nested\n",
      "nested\n",
      "This is function argument\n",
      "This is function argument\n",
      "nested\n",
      "nested\n",
      "This is function argument\n",
      "This is function argument\n",
      "nested\n",
      "nested\n",
      "This is function argument\n",
      "This is function argument\n",
      "nested\n",
      "nested\n",
      "This is function argument\n",
      "This is function argument\n",
      "nested\n",
      "nested\n",
      "This is function argument\n",
      "This is function argument\n",
      "nested\n",
      "nested\n",
      "This is function argument\n",
      "This is function argument\n",
      "nested\n",
      "nested\n",
      "This is function argument\n",
      "This is function argument\n",
      "nested\n",
      "nested\n",
      "This is function argument\n",
      "This is function argument\n",
      "nested\n",
      "nested\n",
      "This is function argument\n",
      "This is function argument\n",
      "nested\n",
      "nested\n",
      "This is function argument\n",
      "This is function argument\n",
      "nested\n",
      "nested\n",
      "This is function argument\n",
      "This is function argument\n",
      "nested\n",
      "nested\n",
      "This is function argument\n",
      "This is function argument\n",
      "nested\n",
      "nested\n",
      "This is function argument\n",
      "This is function argument\n",
      "nested\n",
      "nested\n",
      "This is function argument\n",
      "This is function argument\n",
      "nested\n",
      "nested\n",
      "This is function argument\n",
      "This is function argument\n",
      "nested\n",
      "nested\n",
      "This is function argument\n",
      "This is function argument\n",
      "nested\n",
      "nested\n",
      "This is function argument\n",
      "This is function argument\n",
      "nested\n",
      "nested\n",
      "This is function argument\n",
      "This is function argument\n",
      "nested\n",
      "nested\n",
      "This is function argument\n",
      "This is function argument\n",
      "nested\n",
      "nested\n",
      "This is function argument\n",
      "This is function argument\n",
      "nested\n",
      "nested\n",
      "This is function argument\n",
      "This is function argument\n",
      "nested\n",
      "nested\n",
      "This is function argument\n",
      "This is function argument\n",
      "nested\n",
      "nested\n",
      "This is function argument\n",
      "This is function argument\n",
      "nested\n",
      "nested\n",
      "This is function argument\n",
      "This is function argument\n",
      "nested\n",
      "nested\n",
      "This is function argument\n",
      "This is function argument\n",
      "nested\n",
      "nested\n",
      "This is function argument\n",
      "This is function argument\n",
      "nested\n",
      "nested\n",
      "This is function argument\n",
      "This is function argument\n",
      "nested\n",
      "nested\n",
      "This is function argument\n",
      "This is function argument\n",
      "nested\n",
      "nested\n",
      "This is function argument\n",
      "This is function argument\n",
      "nested\n",
      "nested\n",
      "This is function argument\n",
      "This is function argument\n",
      "nested\n",
      "nested\n",
      "This is function argument\n",
      "This is function argument\n",
      "nested\n",
      "nested\n",
      "This is function argument\n",
      "This is function argument\n",
      "nested\n",
      "nested\n",
      "This is function argument\n",
      "This is function argument\n",
      "nested\n",
      "nested\n",
      "This is function argument\n",
      "This is function argument\n",
      "nested\n",
      "nested\n",
      "This is function argument\n",
      "This is function argument\n",
      "nested\n",
      "nested\n",
      "This is function argument\n",
      "This is function argument\n",
      "nested\n",
      "nested\n",
      "This is function argument\n",
      "This is function argument\n",
      "nested\n",
      "nested\n",
      "This is function argument\n",
      "This is function argument\n",
      "nested\n",
      "nested\n",
      "This is function argument\n",
      "This is function argument\n",
      "nested\n",
      "nested\n",
      "This is function argument\n",
      "This is function argument\n",
      "nested\n",
      "nested\n",
      "This is function argument\n",
      "This is function argument\n",
      "nested\n",
      "nested\n",
      "This is function argument\n",
      "This is function argument\n",
      "nested\n",
      "nested\n",
      "This is function argument\n",
      "This is function argument\n",
      "nested\n",
      "nested\n",
      "This is function argument\n",
      "This is function argument\n",
      "nested\n",
      "nested\n",
      "This is function argument\n",
      "This is function argument\n",
      "nested\n",
      "nested\n",
      "This is function argument\n",
      "This is function argument\n",
      "nested\n",
      "nested\n",
      "This is function argument\n",
      "This is function argument\n",
      "nested\n",
      "nested\n",
      "This is function argument\n",
      "This is function argument\n",
      "nested\n",
      "nested\n",
      "This is function argument\n",
      "This is function argument\n",
      "nested\n",
      "nested\n",
      "This is function argument\n",
      "This is function argument\n",
      "nested\n",
      "nested\n",
      "This is function argument\n",
      "This is function argument\n",
      "nested\n",
      "nested\n",
      "This is function argument\n",
      "This is function argument\n",
      "nested\n",
      "nested\n",
      "This is function argument\n",
      "This is function argument\n",
      "nested\n",
      "nested\n",
      "This is function argument\n",
      "This is function argument\n",
      "nested\n",
      "nested\n",
      "This is function argument\n",
      "This is function argument\n",
      "nested\n",
      "nested\n",
      "This is function argument\n",
      "This is function argument\n",
      "nested\n",
      "nested\n",
      "This is function argument\n",
      "This is function argument\n",
      "nested\n",
      "nested\n",
      "This is function argument\n",
      "This is function argument\n",
      "nested\n",
      "nested\n",
      "This is function argument\n",
      "This is function argument\n",
      "nested\n",
      "nested\n",
      "This is function argument\n",
      "This is function argument\n",
      "nested\n",
      "nested\n",
      "This is function argument\n",
      "This is function argument\n",
      "nested\n",
      "nested\n",
      "This is function argument\n",
      "This is function argument\n",
      "nested\n",
      "nested\n",
      "This is function argument\n",
      "This is function argument\n",
      "nested\n",
      "nested\n",
      "This is function argument\n",
      "This is function argument\n",
      "nested\n",
      "nested\n",
      "This is function argument\n",
      "This is function argument\n",
      "nested\n",
      "nested\n",
      "This is function argument\n",
      "This is function argument\n",
      "nested\n",
      "nested\n",
      "This is function argument\n",
      "This is function argument\n",
      "nested\n",
      "nested\n",
      "This is function argument\n",
      "This is function argument\n",
      "nested\n",
      "nested\n",
      "This is function argument\n",
      "This is function argument\n",
      "nested\n",
      "nested\n",
      "This is function argument\n",
      "This is function argument\n",
      "nested\n",
      "nested\n",
      "This is function argument\n",
      "This is function argument\n",
      "nested\n",
      "nested\n",
      "This is function argument\n",
      "This is function argument\n",
      "nested\n",
      "nested\n",
      "This is function argument\n",
      "This is function argument\n",
      "nested\n",
      "nested\n",
      "This is function argument\n",
      "This is function argument\n",
      "nested\n",
      "nested\n",
      "This is function argument\n",
      "This is function argument\n",
      "nested\n",
      "nested\n",
      "This is function argument\n",
      "This is function argument\n",
      "nested\n",
      "nested\n",
      "This is function argument\n",
      "This is function argument\n",
      "nested\n",
      "nested\n",
      "This is function argument\n",
      "This is function argument\n",
      "nested\n",
      "nested\n",
      "This is function argument\n",
      "This is function argument\n",
      "nested\n",
      "nested\n",
      "This is function argument\n",
      "This is function argument\n",
      "nested\n",
      "nested\n",
      "This is function argument\n",
      "This is function argument\n",
      "nested\n",
      "nested\n",
      "This is function argument\n",
      "This is function argument\n",
      "nested\n",
      "nested\n",
      "This is function argument\n",
      "This is function argument\n",
      "nested\n",
      "nested\n",
      "This is function argument\n",
      "This is function argument\n",
      "nested\n",
      "nested\n",
      "This is function argument\n",
      "This is function argument\n",
      "nested\n",
      "nested\n",
      "This is function argument\n",
      "This is function argument\n",
      "nested\n",
      "nested\n",
      "This is function argument\n",
      "This is function argument\n",
      "nested\n",
      "nested\n",
      "This is function argument\n",
      "This is function argument\n",
      "nested\n",
      "nested\n",
      "This is function argument\n",
      "This is function argument\n",
      "nested\n",
      "nested\n",
      "This is function argument\n",
      "This is function argument\n",
      "nested\n",
      "nested\n",
      "This is function argument\n",
      "This is function argument\n",
      "nested\n",
      "nested\n",
      "This is function argument\n",
      "This is function argument\n",
      "nested\n",
      "nested\n",
      "This is function argument\n",
      "This is function argument\n",
      "nested\n",
      "nested\n",
      "This is function argument\n",
      "This is function argument\n",
      "nested\n",
      "nested\n",
      "This is function argument\n",
      "This is function argument\n",
      "nested\n",
      "nested\n",
      "This is function argument\n",
      "This is function argument\n",
      "nested\n",
      "nested\n",
      "This is function argument\n",
      "This is function argument\n",
      "nested\n",
      "nested\n",
      "This is function argument\n",
      "This is function argument\n",
      "nested\n",
      "nested\n",
      "This is function argument\n",
      "This is function argument\n",
      "nested\n",
      "nested\n",
      "This is function argument\n",
      "This is function argument\n",
      "nested\n",
      "nested\n",
      "This is function argument\n",
      "This is function argument\n",
      "nested\n",
      "nested\n",
      "This is function argument\n",
      "This is function argument\n",
      "nested\n",
      "nested\n",
      "This is function argument\n",
      "This is function argument\n",
      "nested\n",
      "nested\n",
      "This is function argument\n",
      "This is function argument\n",
      "nested\n",
      "nested\n",
      "This is function argument\n",
      "This is function argument\n",
      "nested\n",
      "nested\n",
      "This is function argument\n",
      "This is function argument\n",
      "nested\n",
      "nested\n",
      "This is function argument\n",
      "This is function argument\n",
      "nested\n",
      "nested\n",
      "This is function argument\n",
      "This is function argument\n",
      "nested\n",
      "nested\n",
      "This is function argument\n",
      "This is function argument\n",
      "nested\n",
      "nested\n",
      "This is function argument\n",
      "This is function argument\n",
      "nested\n",
      "nested\n",
      "This is function argument\n",
      "This is function argument\n",
      "nested\n",
      "nested\n",
      "This is function argument\n",
      "This is function argument\n",
      "nested\n",
      "nested\n",
      "This is function argument\n",
      "This is function argument\n",
      "nested\n",
      "nested\n",
      "This is function argument\n",
      "This is function argument\n",
      "nested\n",
      "nested\n",
      "This is function argument\n",
      "This is function argument\n",
      "nested\n",
      "nested\n",
      "This is function argument\n",
      "This is function argument\n",
      "nested\n",
      "nested\n",
      "This is function argument\n",
      "This is function argument\n",
      "nested\n",
      "nested\n",
      "This is function argument\n",
      "This is function argument\n",
      "nested\n",
      "nested\n",
      "This is function argument\n",
      "This is function argument\n",
      "nested\n",
      "nested\n",
      "This is function argument\n",
      "This is function argument\n",
      "nested\n",
      "nested\n",
      "This is function argument\n",
      "This is function argument\n",
      "nested\n",
      "nested\n",
      "This is function argument\n",
      "This is function argument\n",
      "nested\n",
      "nested\n",
      "This is function argument\n",
      "This is function argument\n",
      "nested\n",
      "nested\n",
      "This is function argument\n",
      "This is function argument\n",
      "nested\n",
      "nested\n",
      "This is function argument\n",
      "This is function argument\n",
      "nested\n",
      "nested\n",
      "This is function argument\n",
      "This is function argument\n",
      "nested\n",
      "nested\n",
      "This is function argument\n",
      "This is function argument\n",
      "nested\n",
      "nested\n",
      "This is function argument\n",
      "This is function argument\n",
      "nested\n",
      "nested\n",
      "This is function argument\n",
      "This is function argument\n",
      "nested\n",
      "nested\n",
      "This is function argument\n",
      "This is function argument\n",
      "nested\n",
      "nested\n",
      "This is function argument\n",
      "This is function argument\n",
      "nested\n",
      "nested\n",
      "This is function argument\n",
      "This is function argument\n",
      "nested\n",
      "nested\n",
      "This is function argument\n",
      "This is function argument\n",
      "nested\n",
      "nested\n",
      "This is function argument\n",
      "This is function argument\n",
      "nested\n",
      "nested\n",
      "This is function argument\n",
      "This is function argument\n",
      "nested\n",
      "nested\n",
      "This is function argument\n",
      "This is function argument\n",
      "nested\n",
      "nested\n",
      "This is function argument\n",
      "This is function argument\n",
      "nested\n",
      "nested\n",
      "This is function argument\n",
      "This is function argument\n",
      "nested\n",
      "nested\n",
      "This is function argument\n",
      "This is function argument\n",
      "nested\n",
      "nested\n",
      "This is function argument\n",
      "This is function argument\n",
      "nested\n",
      "nested\n",
      "This is function argument\n",
      "This is function argument\n",
      "nested\n",
      "nested\n",
      "This is function argument\n",
      "This is function argument\n",
      "nested\n",
      "nested\n",
      "This is function argument\n",
      "This is function argument\n",
      "nested\n",
      "nested\n",
      "This is function argument\n",
      "This is function argument\n",
      "nested\n",
      "nested\n",
      "This is function argument\n",
      "This is function argument\n",
      "nested\n",
      "nested\n",
      "This is function argument\n",
      "This is function argument\n",
      "nested\n",
      "nested\n",
      "This is function argument\n",
      "This is function argument\n",
      "nested\n",
      "nested\n",
      "This is function argument\n",
      "This is function argument\n",
      "nested\n",
      "nested\n",
      "This is function argument\n",
      "This is function argument\n",
      "nested\n",
      "nested\n",
      "This is function argument\n",
      "This is function argument\n",
      "nested\n",
      "nested\n",
      "This is function argument\n",
      "This is function argument\n",
      "nested\n",
      "nested\n",
      "This is function argument\n",
      "This is function argument\n",
      "nested\n",
      "nested\n",
      "This is function argument\n",
      "This is function argument\n",
      "nested\n",
      "nested\n",
      "This is function argument\n",
      "This is function argument\n",
      "nested\n",
      "nested\n",
      "This is function argument\n",
      "This is function argument\n",
      "nested\n",
      "nested\n",
      "This is function argument\n",
      "This is function argument\n",
      "nested\n",
      "nested\n",
      "This is function argument\n",
      "This is function argument\n",
      "nested\n",
      "nested\n",
      "This is function argument"
     ]
    },
    {
     "ename": "RecursionError",
     "evalue": "maximum recursion depth exceeded in comparison",
     "output_type": "error",
     "traceback": [
      "\u001b[1;31m---------------------------------------------------------------------------\u001b[0m",
      "\u001b[1;31mRecursionError\u001b[0m                            Traceback (most recent call last)",
      "\u001b[1;32m<ipython-input-58-4dd55bc05628>\u001b[0m in \u001b[0;36m<module>\u001b[1;34m()\u001b[0m\n\u001b[0;32m      6\u001b[0m     \u001b[0mprint\u001b[0m\u001b[1;33m(\u001b[0m\u001b[1;34m\"This is function argument\"\u001b[0m\u001b[1;33m)\u001b[0m\u001b[1;33m\u001b[0m\u001b[0m\n\u001b[0;32m      7\u001b[0m     \u001b[0mz\u001b[0m\u001b[1;33m(\u001b[0m\u001b[0mx\u001b[0m\u001b[1;33m)\u001b[0m\u001b[1;33m\u001b[0m\u001b[0m\n\u001b[1;32m----> 8\u001b[1;33m \u001b[0my\u001b[0m\u001b[1;33m(\u001b[0m\u001b[0mx\u001b[0m\u001b[1;33m)\u001b[0m\u001b[1;33m\u001b[0m\u001b[0m\n\u001b[0m",
      "\u001b[1;32m<ipython-input-58-4dd55bc05628>\u001b[0m in \u001b[0;36my\u001b[1;34m(z)\u001b[0m\n\u001b[0;32m      5\u001b[0m \u001b[1;32mdef\u001b[0m \u001b[0my\u001b[0m\u001b[1;33m(\u001b[0m\u001b[0mz\u001b[0m\u001b[1;33m)\u001b[0m\u001b[1;33m:\u001b[0m\u001b[1;33m\u001b[0m\u001b[0m\n\u001b[0;32m      6\u001b[0m     \u001b[0mprint\u001b[0m\u001b[1;33m(\u001b[0m\u001b[1;34m\"This is function argument\"\u001b[0m\u001b[1;33m)\u001b[0m\u001b[1;33m\u001b[0m\u001b[0m\n\u001b[1;32m----> 7\u001b[1;33m     \u001b[0mz\u001b[0m\u001b[1;33m(\u001b[0m\u001b[0mx\u001b[0m\u001b[1;33m)\u001b[0m\u001b[1;33m\u001b[0m\u001b[0m\n\u001b[0m\u001b[0;32m      8\u001b[0m \u001b[0my\u001b[0m\u001b[1;33m(\u001b[0m\u001b[0mx\u001b[0m\u001b[1;33m)\u001b[0m\u001b[1;33m\u001b[0m\u001b[0m\n",
      "\u001b[1;32m<ipython-input-58-4dd55bc05628>\u001b[0m in \u001b[0;36mx\u001b[1;34m(w)\u001b[0m\n\u001b[0;32m      2\u001b[0m \u001b[1;32mdef\u001b[0m \u001b[0mx\u001b[0m\u001b[1;33m(\u001b[0m\u001b[0mw\u001b[0m\u001b[1;33m)\u001b[0m\u001b[1;33m:\u001b[0m\u001b[1;33m\u001b[0m\u001b[0m\n\u001b[0;32m      3\u001b[0m     \u001b[0mprint\u001b[0m\u001b[1;33m(\u001b[0m\u001b[1;34m\"nested\"\u001b[0m\u001b[1;33m)\u001b[0m\u001b[1;33m\u001b[0m\u001b[0m\n\u001b[1;32m----> 4\u001b[1;33m     \u001b[0mw\u001b[0m\u001b[1;33m(\u001b[0m\u001b[0my\u001b[0m\u001b[1;33m)\u001b[0m\u001b[1;33m\u001b[0m\u001b[0m\n\u001b[0m\u001b[0;32m      5\u001b[0m \u001b[1;32mdef\u001b[0m \u001b[0my\u001b[0m\u001b[1;33m(\u001b[0m\u001b[0mz\u001b[0m\u001b[1;33m)\u001b[0m\u001b[1;33m:\u001b[0m\u001b[1;33m\u001b[0m\u001b[0m\n\u001b[0;32m      6\u001b[0m     \u001b[0mprint\u001b[0m\u001b[1;33m(\u001b[0m\u001b[1;34m\"This is function argument\"\u001b[0m\u001b[1;33m)\u001b[0m\u001b[1;33m\u001b[0m\u001b[0m\n",
      "\u001b[1;32m<ipython-input-58-4dd55bc05628>\u001b[0m in \u001b[0;36mx\u001b[1;34m(w)\u001b[0m\n\u001b[0;32m      2\u001b[0m \u001b[1;32mdef\u001b[0m \u001b[0mx\u001b[0m\u001b[1;33m(\u001b[0m\u001b[0mw\u001b[0m\u001b[1;33m)\u001b[0m\u001b[1;33m:\u001b[0m\u001b[1;33m\u001b[0m\u001b[0m\n\u001b[0;32m      3\u001b[0m     \u001b[0mprint\u001b[0m\u001b[1;33m(\u001b[0m\u001b[1;34m\"nested\"\u001b[0m\u001b[1;33m)\u001b[0m\u001b[1;33m\u001b[0m\u001b[0m\n\u001b[1;32m----> 4\u001b[1;33m     \u001b[0mw\u001b[0m\u001b[1;33m(\u001b[0m\u001b[0my\u001b[0m\u001b[1;33m)\u001b[0m\u001b[1;33m\u001b[0m\u001b[0m\n\u001b[0m\u001b[0;32m      5\u001b[0m \u001b[1;32mdef\u001b[0m \u001b[0my\u001b[0m\u001b[1;33m(\u001b[0m\u001b[0mz\u001b[0m\u001b[1;33m)\u001b[0m\u001b[1;33m:\u001b[0m\u001b[1;33m\u001b[0m\u001b[0m\n\u001b[0;32m      6\u001b[0m     \u001b[0mprint\u001b[0m\u001b[1;33m(\u001b[0m\u001b[1;34m\"This is function argument\"\u001b[0m\u001b[1;33m)\u001b[0m\u001b[1;33m\u001b[0m\u001b[0m\n",
      "... last 3 frames repeated, from the frame below ...\n",
      "\u001b[1;32m<ipython-input-58-4dd55bc05628>\u001b[0m in \u001b[0;36my\u001b[1;34m(z)\u001b[0m\n\u001b[0;32m      5\u001b[0m \u001b[1;32mdef\u001b[0m \u001b[0my\u001b[0m\u001b[1;33m(\u001b[0m\u001b[0mz\u001b[0m\u001b[1;33m)\u001b[0m\u001b[1;33m:\u001b[0m\u001b[1;33m\u001b[0m\u001b[0m\n\u001b[0;32m      6\u001b[0m     \u001b[0mprint\u001b[0m\u001b[1;33m(\u001b[0m\u001b[1;34m\"This is function argument\"\u001b[0m\u001b[1;33m)\u001b[0m\u001b[1;33m\u001b[0m\u001b[0m\n\u001b[1;32m----> 7\u001b[1;33m     \u001b[0mz\u001b[0m\u001b[1;33m(\u001b[0m\u001b[0mx\u001b[0m\u001b[1;33m)\u001b[0m\u001b[1;33m\u001b[0m\u001b[0m\n\u001b[0m\u001b[0;32m      8\u001b[0m \u001b[0my\u001b[0m\u001b[1;33m(\u001b[0m\u001b[0mx\u001b[0m\u001b[1;33m)\u001b[0m\u001b[1;33m\u001b[0m\u001b[0m\n",
      "\u001b[1;31mRecursionError\u001b[0m: maximum recursion depth exceeded in comparison"
     ]
    }
   ],
   "source": [
    "#Global function \n",
    "def x(w):\n",
    "    print(\"nested\")\n",
    "    w(y)\n",
    "def y(z):\n",
    "    print(\"This is function argument\")\n",
    "    z(x)\n",
    "y(x)\n"
   ]
  },
  {
   "cell_type": "markdown",
   "metadata": {},
   "source": [
    "# CHP 51"
   ]
  },
  {
   "cell_type": "code",
   "execution_count": 1,
   "metadata": {},
   "outputs": [
    {
     "name": "stdout",
     "output_type": "stream",
     "text": [
      "0\n",
      "1\n",
      "2\n",
      "3\n",
      "4\n",
      "5\n"
     ]
    }
   ],
   "source": [
    "current_value=0\n",
    "while current_value<=5:\n",
    "    print(current_value)\n",
    "    current_value+=1"
   ]
  },
  {
   "cell_type": "code",
   "execution_count": 1,
   "metadata": {},
   "outputs": [
    {
     "name": "stdout",
     "output_type": "stream",
     "text": [
      "\n",
      "Enter city : Karachi\n",
      "I love my city :  karachi\n",
      "\n",
      "Enter city : quit\n"
     ]
    }
   ],
   "source": [
    "prompt='\\nEnter city : '\n",
    "while True:\n",
    "    city=input(prompt).lower()\n",
    "    if city=='quit':\n",
    "         break\n",
    "    else:\n",
    "        print(\"I love my city : \",city)"
   ]
  },
  {
   "cell_type": "code",
   "execution_count": 2,
   "metadata": {},
   "outputs": [
    {
     "name": "stdout",
     "output_type": "stream",
     "text": [
      "Enter Data : 12\n"
     ]
    },
    {
     "data": {
      "text/plain": [
       "int"
      ]
     },
     "execution_count": 2,
     "metadata": {},
     "output_type": "execute_result"
    }
   ],
   "source": [
    "a=int(input(\"Enter Data : \"))\n",
    "type(a)"
   ]
  },
  {
   "cell_type": "markdown",
   "metadata": {},
   "source": [
    "# CHP#53"
   ]
  },
  {
   "cell_type": "code",
   "execution_count": 24,
   "metadata": {},
   "outputs": [],
   "source": [
    "class Sohaib():\n",
    "    def __init__(self,first_name):\n",
    "        self.first_name=first_name\n",
    "        \n",
    "    def data(self,age,id):\n",
    "        self.age=age\n",
    "        self.id=id\n",
    "        \n",
    "S=Sohaib(\"Sohaib\")        "
   ]
  },
  {
   "cell_type": "code",
   "execution_count": 26,
   "metadata": {},
   "outputs": [
    {
     "name": "stdout",
     "output_type": "stream",
     "text": [
      "18\n"
     ]
    }
   ],
   "source": [
    "S.data(18,1267)\n",
    "print(S.age)"
   ]
  },
  {
   "cell_type": "code",
   "execution_count": 37,
   "metadata": {},
   "outputs": [
    {
     "name": "stdout",
     "output_type": "stream",
     "text": [
      "Anas 178\n",
      "Wajeeh 456\n"
     ]
    }
   ],
   "source": [
    "S1=Sohaib(\"Anas\")\n",
    "S2=Sohaib(\"Wajeeh\")\n",
    "\n",
    "S1.data(20,178)\n",
    "S2.data(25,456)\n",
    "print(S1.first_name,S1.id)\n",
    "print(S2.first_name,S2.id)"
   ]
  },
  {
   "cell_type": "code",
   "execution_count": 51,
   "metadata": {},
   "outputs": [],
   "source": [
    "class Restaurant():\n",
    "    def __init__(self,restaurant_name,cuisine_type,*arg):\n",
    "        self.r_n=restaurant_name\n",
    "        self.c_t=cuisine_type\n",
    "        \n",
    "    def open_restaurant(self):\n",
    "        print(\"The restaurant is open 9:00 am to 12:00 pm\")\n",
    "    def restaurant_details(self):\n",
    "        print(self.r_n,\" restaurant is open and \",self.c_t,\" is available\")     "
   ]
  },
  {
   "cell_type": "code",
   "execution_count": 56,
   "metadata": {},
   "outputs": [
    {
     "name": "stdout",
     "output_type": "stream",
     "text": [
      "The restaurant is open 9:00 am to 12:00 pm\n",
      "Mc_Donald  restaurant is open and  BBQ  is available\n"
     ]
    }
   ],
   "source": [
    "R1=Restaurant(\"Mc_Donald\",\"BBQ\")  \n",
    "R1.open_restaurant()\n",
    "R1.restaurant_details()"
   ]
  },
  {
   "cell_type": "markdown",
   "metadata": {},
   "source": [
    "##INHERITENCE"
   ]
  },
  {
   "cell_type": "code",
   "execution_count": 37,
   "metadata": {},
   "outputs": [],
   "source": [
    "class car():\n",
    "    def __init__(self,company,model):\n",
    "        self.c=company\n",
    "        self.m=model\n",
    "    def GLI(self):\n",
    "        print(self.c,self.m,\"is non automatic car\")\n",
    "    def XLI(self):\n",
    "        print(self.c,self.m,\"is automatic car\")    \n",
    "        \n",
    "class  ElectricCars(car):\n",
    "    def __init__(self,company,model,cc,milage):\n",
    "        self.cc=cc\n",
    "        self.mil=milage\n",
    "        super().__init__(company,model) \n",
    "        car.XLI(self)"
   ]
  },
  {
   "cell_type": "code",
   "execution_count": 38,
   "metadata": {},
   "outputs": [
    {
     "name": "stdout",
     "output_type": "stream",
     "text": [
      "audi i8 is automatic car\n"
     ]
    }
   ],
   "source": [
    "new_car=ElectricCars(\"audi\",\"i8\",\"2100\",\"3 km/h\")"
   ]
  },
  {
   "cell_type": "markdown",
   "metadata": {},
   "source": [
    "# ENCAPSULATION & ABSTRACTION"
   ]
  },
  {
   "cell_type": "code",
   "execution_count": 39,
   "metadata": {},
   "outputs": [],
   "source": [
    "##  Public Simple .\n",
    "##  Protected _.\n",
    "##  private __."
   ]
  },
  {
   "cell_type": "code",
   "execution_count": 20,
   "metadata": {},
   "outputs": [],
   "source": [
    "class CAR():\n",
    "    def __init__(self,cars_list):\n",
    "        self.c_l=cars_list\n",
    "        self.h=30\n",
    "        self.s=50\n",
    "        self.suv=100\n",
    "    def borrow_car(self,car_name,days):          \n",
    "        if car_name in self.c_l:    \n",
    "            if car_name==\"Hatchback\":\n",
    "                self.c_l.remove(car_name)\n",
    "                cost=self.h*int(days)\n",
    "                print(\"Borrowed Your bill is \",cost)  \n",
    "            elif car_name==\"Sedan\":\n",
    "                cost=self.s*days\n",
    "                self.c_l.remove(car_name)\n",
    "                print(\"Borrowed Your bill is \",cost)  \n",
    "            elif car_name==\"Suv\":\n",
    "                cost=self.suv*days\n",
    "                self.c_l.remove(car_name)\n",
    "                print(\"Borrowed Your bill is \",cost)    \n",
    "        else:\n",
    "            print(\"Not Available\")\n",
    "    def return_car(self,car_name):\n",
    "            print(\"THANK YOU for returning\")\n",
    "            self.c_l.append(car_name)\n",
    "        "
   ]
  },
  {
   "cell_type": "code",
   "execution_count": 30,
   "metadata": {},
   "outputs": [],
   "source": [
    "class customer(CAR):\n",
    "    def __init__(self,name,cars_list):\n",
    "        self.n=name\n",
    "        self.cars_list=cars_list\n",
    "    def borrow_car(self,car_name,num_of_days):\n",
    "        super().__init__(self.cars_list)\n",
    "        CAR.borrow_car(self,car_name,num_of_days)\n",
    "    def return_car(self,car_name):\n",
    "        super().__init__(self.cars_list)\n",
    "        CAR.return_car(self,car_name) \n",
    "        "
   ]
  },
  {
   "cell_type": "code",
   "execution_count": 31,
   "metadata": {},
   "outputs": [
    {
     "name": "stdout",
     "output_type": "stream",
     "text": [
      "THANK YOU for returning\n"
     ]
    }
   ],
   "source": [
    "cars_list=[\"Hatchback\",\"Sedan\",\"Suv\"]\n",
    "member=customer(\"Sohaib\",cars_list)\n",
    "member.return_car(\"Suv\")\n"
   ]
  },
  {
   "cell_type": "code",
   "execution_count": 49,
   "metadata": {},
   "outputs": [],
   "source": [
    "#FILING"
   ]
  },
  {
   "cell_type": "code",
   "execution_count": 46,
   "metadata": {},
   "outputs": [
    {
     "ename": "NameError",
     "evalue": "name 'josn' is not defined",
     "output_type": "error",
     "traceback": [
      "\u001b[1;31m---------------------------------------------------------------------------\u001b[0m",
      "\u001b[1;31mNameError\u001b[0m                                 Traceback (most recent call last)",
      "\u001b[1;32m<ipython-input-46-016455e7ff68>\u001b[0m in \u001b[0;36m<module>\u001b[1;34m()\u001b[0m\n\u001b[0;32m      1\u001b[0m \u001b[0mList\u001b[0m\u001b[1;33m=\u001b[0m\u001b[1;33m[\u001b[0m\u001b[1;34m\"1\"\u001b[0m\u001b[1;33m,\u001b[0m\u001b[1;34m\"2\"\u001b[0m\u001b[1;33m,\u001b[0m\u001b[1;34m\"3\"\u001b[0m\u001b[1;33m]\u001b[0m\u001b[1;33m\u001b[0m\u001b[0m\n\u001b[0;32m      2\u001b[0m \u001b[1;32mwith\u001b[0m \u001b[0mopen\u001b[0m\u001b[1;33m(\u001b[0m\u001b[1;34m\"list.json\"\u001b[0m\u001b[1;33m,\u001b[0m\u001b[1;34m\"w\"\u001b[0m\u001b[1;33m)\u001b[0m \u001b[1;32mas\u001b[0m \u001b[0mf\u001b[0m\u001b[1;33m:\u001b[0m\u001b[1;33m\u001b[0m\u001b[0m\n\u001b[1;32m----> 3\u001b[1;33m     \u001b[0mjosn\u001b[0m\u001b[1;33m.\u001b[0m\u001b[0mdump\u001b[0m\u001b[1;33m(\u001b[0m\u001b[0mList\u001b[0m\u001b[1;33m,\u001b[0m\u001b[0mf\u001b[0m\u001b[1;33m)\u001b[0m\u001b[1;33m\u001b[0m\u001b[0m\n\u001b[0m",
      "\u001b[1;31mNameError\u001b[0m: name 'josn' is not defined"
     ]
    }
   ],
   "source": [
    "List=[\"1\",\"2\",\"3\"]\n",
    "with open(\"list.json\",\"w\") as f:\n",
    "    josn.dump(List,f)"
   ]
  },
  {
   "cell_type": "code",
   "execution_count": null,
   "metadata": {},
   "outputs": [],
   "source": [
    "#TRY AND EXCEPT"
   ]
  },
  {
   "cell_type": "code",
   "execution_count": 51,
   "metadata": {},
   "outputs": [],
   "source": [
    "#ITIRATOR"
   ]
  },
  {
   "cell_type": "code",
   "execution_count": 10,
   "metadata": {},
   "outputs": [
    {
     "data": {
      "text/plain": [
       "'2'"
      ]
     },
     "execution_count": 10,
     "metadata": {},
     "output_type": "execute_result"
    }
   ],
   "source": [
    "expertise=[\"1\",\"2\",\"3\"]\n",
    "iterate_expertise=iter(expertise)\n",
    "next(iterate_expertise)\n",
    "next(iterate_expertise)"
   ]
  },
  {
   "cell_type": "code",
   "execution_count": 54,
   "metadata": {},
   "outputs": [],
   "source": [
    "#GENERATOR"
   ]
  },
  {
   "cell_type": "code",
   "execution_count": 8,
   "metadata": {},
   "outputs": [
    {
     "name": "stdout",
     "output_type": "stream",
     "text": [
      "<generator object city_generator at 0x0000020C86C778E0>\n"
     ]
    },
    {
     "data": {
      "text/plain": [
       "'Hamburg'"
      ]
     },
     "execution_count": 8,
     "metadata": {},
     "output_type": "execute_result"
    }
   ],
   "source": [
    "def city_generator():\n",
    "    yield(\"London\")\n",
    "    yield(\"Hamburg\")\n",
    "    yield(\"Konstanz\")\n",
    "x=city_generator()\n",
    "print(x)\n",
    "next(x)\n",
    "next(x)"
   ]
  },
  {
   "cell_type": "code",
   "execution_count": 9,
   "metadata": {},
   "outputs": [
    {
     "name": "stdout",
     "output_type": "stream",
     "text": [
      "<generator object city_generator at 0x0000020C86C77A98>\n"
     ]
    },
    {
     "data": {
      "text/plain": [
       "'London'"
      ]
     },
     "execution_count": 9,
     "metadata": {},
     "output_type": "execute_result"
    }
   ],
   "source": [
    "y=city_generator()\n",
    "print(y)\n",
    "next(y)"
   ]
  },
  {
   "cell_type": "code",
   "execution_count": 14,
   "metadata": {},
   "outputs": [],
   "source": [
    "with open(\"1.txt\",\"w\") as f:\n",
    "    f.write(\"Sohaib\")\n",
    "    f.close()"
   ]
  },
  {
   "cell_type": "code",
   "execution_count": null,
   "metadata": {},
   "outputs": [],
   "source": []
  }
 ],
 "metadata": {
  "kernelspec": {
   "display_name": "Python 3",
   "language": "python",
   "name": "python3"
  },
  "language_info": {
   "codemirror_mode": {
    "name": "ipython",
    "version": 3
   },
   "file_extension": ".py",
   "mimetype": "text/x-python",
   "name": "python",
   "nbconvert_exporter": "python",
   "pygments_lexer": "ipython3",
   "version": "3.6.5"
  }
 },
 "nbformat": 4,
 "nbformat_minor": 2
}
